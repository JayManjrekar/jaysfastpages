{
 "cells": [
  {
   "cell_type": "code",
   "execution_count": 1,
   "metadata": {},
   "outputs": [
    {
     "ename": "CompilationException",
     "evalue": "",
     "output_type": "error",
     "traceback": [
      "\u001b[1m\u001b[30m|   \u001b[1m\u001b[30m    public \u001b[0m\u001b[1m\u001b[30m\u001b[41m\u001b[0m\u001b[1m\u001b[30mpublic static void main(String[] args) {\u001b[0m",
      "\u001b[1m\u001b[31mrepeated modifier\u001b[0m",
      ""
     ]
    }
   ],
   "source": [
    "public class CompOpsDemo {\n",
    "    public public static void main(String[] args) {\n",
    "        int x = 2;\n",
    "        int y = 7;\n",
    "        x++;\n",
    "        y--;\n",
    "        System.out.println(x);\n",
    "        System.out.println(y);\n",
    "        \n",
    "    }\n",
    "}"
   ]
  }
 ],
 "metadata": {
  "kernelspec": {
   "display_name": "Java",
   "language": "java",
   "name": "java"
  },
  "language_info": {
   "codemirror_mode": "java",
   "file_extension": ".jshell",
   "mimetype": "text/x-java-source",
   "name": "java",
   "pygments_lexer": "java",
   "version": "19"
  },
  "orig_nbformat": 4
 },
 "nbformat": 4,
 "nbformat_minor": 2
}
