{
 "cells": [
  {
   "cell_type": "markdown",
   "metadata": {},
   "source": [
    "# FRQ for Extra Credit"
   ]
  },
  {
   "cell_type": "markdown",
   "metadata": {},
   "source": [
    "## Array List #1 Member Info"
   ]
  },
  {
   "cell_type": "markdown",
   "metadata": {},
   "source": [
    "### part a question \n",
    "\n",
    "(a) Write the ClubMembers method addMembers, which takes two parameters. The first parameter is a String array containing the names of new club members to be added. The second parameter is the graduation year of all the new club members. The method adds the new members to the memberList instance variable. The names can be added in any order. All members added are initially in good standing and share the same graduation year, gradYear.\n",
    "\n",
    "Complete the addMembers method.\n",
    "\n",
    "/** Adds new club members to memberList, as described in part (a).\n",
    "\n",
    "* Precondition: names is a non-empty array.\n",
    "\n",
    "*/\n",
    "\n",
    "public void addMembers(String[] names, int gradYear)"
   ]
  },
  {
   "cell_type": "code",
   "execution_count": 5,
   "metadata": {
    "vscode": {
     "languageId": "java"
    }
   },
   "outputs": [],
   "source": [
    "class MemberInfo {\n",
    "    private String name;\n",
    "    private int gradYear;\n",
    "    private boolean goodStanding;\n",
    "\n",
    "    public MemberInfo(String name, int gradYear, boolean goodStanding) {\n",
    "        this.name = name;\n",
    "        this.gradYear = gradYear;\n",
    "        this.goodStanding = goodStanding;\n",
    "    }\n",
    "\n",
    "    public int getGradYear() {\n",
    "        return gradYear;\n",
    "    }\n",
    "\n",
    "    public boolean inGoodStanding() {\n",
    "        return goodStanding;\n",
    "    }\n",
    "\n",
    "    public String getMemberName() {\n",
    "        return name;\n",
    "    }\n",
    "}"
   ]
  },
  {
   "cell_type": "markdown",
   "metadata": {},
   "source": [
    "### part b\n",
    "\n",
    "(b) Write the ClubMembers method removeMembers, which takes the following actions.\n",
    "\n",
    "Returns a list of all students who have graduated and are in good standing. A member has graduated if the member’s graduation year is less than or equal to the method’s year parameter. If no members meet these criteria, an empty list is returned.\n",
    "Removes from memberList all members who have graduated, regardless of whether or not they are in good standing.\n",
    "The following example illustrates the results of a call to removeMembers.\n",
    "\n",
    " \n",
    "\n",
    "Complete the removeMembers method.\n",
    "\n",
    "/** Removes members who have graduated and returns a list of\n",
    "\n",
    "* members who have graduated and are in good standing,\n",
    "\n",
    "* as described in part (b).\n",
    "\n",
    "*/\n",
    "\n",
    "public ArrayList<MemberInfo> removeMembers(int year)\n",
    "\n"
   ]
  },
  {
   "cell_type": "code",
   "execution_count": 13,
   "metadata": {
    "vscode": {
     "languageId": "java"
    }
   },
   "outputs": [
    {
     "name": "stdout",
     "output_type": "stream",
     "text": [
      "Removed members who graduated in 2024:\n",
      "2024: John\n",
      "2024: Emily\n",
      "2024: David\n"
     ]
    }
   ],
   "source": [
    "import java.util.ArrayList;\n",
    "\n",
    "public class ClubMembers {\n",
    "    private ArrayList<MemberInfo> memberList;\n",
    "\n",
    "    public ClubMembers() {\n",
    "        memberList = new ArrayList<>();\n",
    "    }\n",
    "\n",
    "    /**\n",
    "     * Adds new club members to memberList.\n",
    "     * Precondition: names is a non-empty array.\n",
    "     */\n",
    "    public void addMembers(String[] names, int gradYear) {\n",
    "        for (String name : names) {\n",
    "            MemberInfo member = new MemberInfo(name, gradYear, true);\n",
    "            memberList.add(member);\n",
    "        }\n",
    "    }\n",
    "\n",
    "    /**\n",
    "     * Removes members who have graduated and returns a list of members who have\n",
    "     * graduated and are in good standing.\n",
    "     */\n",
    "    public ArrayList<MemberInfo> removeMembers(int year) {\n",
    "        ArrayList<MemberInfo> graduatedMembers = new ArrayList<>();\n",
    "        for (int i = 0; i < memberList.size(); i++) {\n",
    "            MemberInfo member = memberList.get(i);\n",
    "            if (member.getGradYear() == year && member.inGoodStanding()) {\n",
    "                graduatedMembers.add(member);\n",
    "                memberList.remove(i);\n",
    "                i--; \n",
    "            }\n",
    "        }\n",
    "        return graduatedMembers;\n",
    "    }\n",
    "\n",
    "    // Tester method\n",
    "    public static void main(String[] args) {\n",
    "        ClubMembers club = new ClubMembers();\n",
    "\n",
    "        // Adding members\n",
    "        String[] names = {\"John\", \"Emily\", \"David\"};\n",
    "        int gradYear = 2024;\n",
    "        club.addMembers(names, gradYear);\n",
    "\n",
    "        // Removing members who graduated in a specific year\n",
    "        int yearToRemove = 2024;\n",
    "        ArrayList<MemberInfo> removedMembers = club.removeMembers(yearToRemove);\n",
    "\n",
    "        System.out.println(\"Removed members who graduated in \" + yearToRemove + \":\");\n",
    "        for (MemberInfo member : removedMembers) {\n",
    "            System.out.println(member.getGradYear() + \": \" + member.getMemberName());\n",
    "        }\n",
    "    }\n",
    "}\n",
    "\n",
    "ClubMembers.main(null);\n"
   ]
  },
  {
   "cell_type": "markdown",
   "metadata": {},
   "source": [
    "## FRQ 2D Array Matrix #3"
   ]
  },
  {
   "cell_type": "markdown",
   "metadata": {},
   "source": [
    "#### part a diagnolOP method\n",
    "#### part b expandMatrix method"
   ]
  },
  {
   "cell_type": "markdown",
   "metadata": {},
   "source": [
    "## part a\n",
    "(a) Write the method diagonalOp, which returns the sum of the products of the corresponding entries on the main diagonals of two given square 2D arrays that have the same dimensions. The main diagonal goes from the top-left corner to the bottom-right corner in a square 2D array.\n",
    "\n",
    "For example, assume that mat1 and mat2 are properly defined 2D arrays containing the values shown below. The main diagonals have been shaded in gray.\n",
    "\n"
   ]
  },
  {
   "cell_type": "markdown",
   "metadata": {},
   "source": [
    "## part b\n",
    "(b) Write the method expandMatrix, which returns an expanded version of a given 2D array. To expand a 2D array, a new 2D array must be created and filled with values such that each element of the original 2D array occurs a total of four times in the new 2D array, arranged as shown in the example below.\n",
    "\n",
    "For example, assume that mat3 is a properly defined 2D array containing the values shown below.\n",
    "\n",
    "\n"
   ]
  },
  {
   "cell_type": "code",
   "execution_count": 7,
   "metadata": {
    "vscode": {
     "languageId": "java"
    }
   },
   "outputs": [
    {
     "name": "stdout",
     "output_type": "stream",
     "text": [
      "diagonalOp sum: 21\n",
      "expandMatrix result:\n",
      "-1 -1 2 2 3 3 \n",
      "-1 -1 2 2 3 3 \n",
      "5 5 4 4 6 6 \n",
      "5 5 4 4 6 6 \n"
     ]
    }
   ],
   "source": [
    "public class MatrixOp {\n",
    "\n",
    "    //part a \n",
    "\n",
    "    public static int diagonalOp(int[][] matA, int[][] matB) {\n",
    "        int sum = 0;\n",
    "        int n = matA.length;   \n",
    "        \n",
    "        for (int i = 0; i < n; i++) {\n",
    "            sum += matA[i][i] * matB[i][i];   //diagonal elements are when the row index is equal to column index\n",
    "        } \n",
    "        \n",
    "        return sum; // will return the sum of the diagonal elements\n",
    "    }\n",
    "\n",
    "    //part b\n",
    "    public static int[][] expandMatrix(int[][] matA) {\n",
    "        int rows = matA.length;\n",
    "        int cols = matA[0].length;\n",
    "        int[][] expandedMatrix = new int[rows * 2][cols * 2]; //expands matrix by doubling the rows and columns by two\n",
    "        \n",
    "        for (int i = 0; i < rows; i++) {\n",
    "            for (int j = 0; j < cols; j++) {\n",
    "                int value = matA[i][j];\n",
    "                expandedMatrix[i * 2][j * 2] = value; // assigns the position of indexes and sets equal to value\n",
    "                expandedMatrix[i * 2][j * 2 + 1] = value;\n",
    "                expandedMatrix[i * 2 + 1][j * 2] = value;\n",
    "                expandedMatrix[i * 2 + 1][j * 2 + 1] = value;\n",
    "            }\n",
    "        }\n",
    "        \n",
    "        return expandedMatrix; //will take the matrix and expand it by duplicating each element and make  a new matrix twice rows and columns\n",
    "    }\n",
    "\n",
    "    public static void main(String[] args) {\n",
    "        int[][] mat1 = {{2, 4, 2}, {8, 5, 1}, {4, 2, 4}};\n",
    "        int[][] mat2 = {{-1, 8, 9}, {6, 3, 5}, {5, 1, 2}};\n",
    "        \n",
    "        int sum = diagonalOp(mat1, mat2);\n",
    "        System.out.println(\"diagonalOp sum: \" + sum);\n",
    "        \n",
    "        int[][] mat3 = {{-1, 2, 3}, {5, 4, 6}};\n",
    "        int[][] mat4 = expandMatrix(mat3);\n",
    "        System.out.println(\"expandMatrix result:\");\n",
    "        printMatrix(mat4);\n",
    "    }\n",
    "    \n",
    "    public static void printMatrix(int[][] matrix) {\n",
    "        for (int[] row : matrix) {\n",
    "            for (int num : row) {\n",
    "                System.out.print(num + \" \");\n",
    "            }\n",
    "            System.out.println();\n",
    "        }\n",
    "    }\n",
    "}\n",
    "MatrixOp.main(null);"
   ]
  },
  {
   "cell_type": "markdown",
   "metadata": {},
   "source": [
    "## Class FRQ #5"
   ]
  },
  {
   "cell_type": "markdown",
   "metadata": {},
   "source": [
    "Write the complete Textbook class. Your implementation must meet all specifications and conform to the examples shown in the preceding table."
   ]
  },
  {
   "cell_type": "code",
   "execution_count": 11,
   "metadata": {
    "vscode": {
     "languageId": "java"
    }
   },
   "outputs": [],
   "source": [
    "//parent book class \n",
    "public class Book {\n",
    "    private String title;\n",
    "    private double price;\n",
    "\n",
    "    public Book(String bookTitle, double bookPrice) {\n",
    "        this.title = bookTitle;\n",
    "        this.price = bookPrice;\n",
    "    }\n",
    "\n",
    "    public String getTitle() {\n",
    "        return title;\n",
    "    }\n",
    "\n",
    "    public double getPrice() {\n",
    "        return price;\n",
    "    }\n",
    "}\n"
   ]
  },
  {
   "cell_type": "code",
   "execution_count": 12,
   "metadata": {
    "vscode": {
     "languageId": "java"
    }
   },
   "outputs": [
    {
     "name": "stdout",
     "output_type": "stream",
     "text": [
      "3\n",
      "Biology-39.75-3\n",
      "true\n",
      "false\n",
      "false\n"
     ]
    }
   ],
   "source": [
    "public class Textbook extends Book { //inhertance using extends\n",
    "    private int edition; //adds its own instance field\n",
    "\n",
    "    public Textbook(String bookTitle, double bookPrice, int bookEdition) {\n",
    "        super(bookTitle, bookPrice); //inherits the title and book\n",
    "        edition = bookEdition;\n",
    "    }\n",
    "\n",
    "    public int getEdition() {\n",
    "        return edition;\n",
    "    }\n",
    "\n",
    "    public boolean canSubstituteFor(Textbook otherTextbook) {\n",
    "        return getTitle().equals(otherTextbook.getTitle()) && edition >= otherTextbook.getEdition(); //true if title is the same and edition of current is greater than or equal to other\n",
    "    }\n",
    "\n",
    "    public String getBookInfo() {\n",
    "        return getTitle() + \"-\" + getPrice() + \"-\" + edition;\n",
    "    }\n",
    "\n",
    "    public String toString() {\n",
    "        return getBookInfo();\n",
    "    }\n",
    "\n",
    "    // Tester method\n",
    "    public static void main(String[] args) {\n",
    "        Textbook bio2015 = new Textbook(\"Biology\", 49.75, 2);\n",
    "        Textbook bio2019 = new Textbook(\"Biology\", 39.75, 3);\n",
    "        Textbook math = new Textbook(\"Calculus\", 45.25, 1);\n",
    "\n",
    "        System.out.println(bio2019.getEdition()); // 3\n",
    "        System.out.println(bio2019.getBookInfo()); // \"Biology-39.75-3\"\n",
    "        System.out.println(bio2019.canSubstituteFor(bio2015)); // true\n",
    "        System.out.println(bio2015.canSubstituteFor(bio2019)); // false\n",
    "        System.out.println(bio2015.canSubstituteFor(math)); // false\n",
    "    }\n",
    "}\n",
    "Textbook.main(null);"
   ]
  },
  {
   "cell_type": "markdown",
   "metadata": {},
   "source": [
    "## Methods and Control Structures FRQ # 3"
   ]
  },
  {
   "cell_type": "markdown",
   "metadata": {},
   "source": [
    "## part a \n",
    "\n",
    "(a) In mathematics, the factorial of a positive integer n, denoted as n! , is the product of all positive integers less than or equal to n.\n",
    "\n",
    "The factorial of n can be computed using the following rules.\n",
    "\n",
    "Case I: If n is 1, then the factorial of n is 1.\n",
    "Case II: If n is greater than 1, then the factorial of n is equal to n times the factorial of (n - 1).\n",
    "The factorial method returns the factorial of n, as determined by case I and case II. Write the factorial method below. You are encouraged to implement this method recursively.\n",
    "\n",
    "/** Precondition: n is between 1 and 12, inclusive.\n",
    "\n",
    "* Returns the factorial of n, as described in part (a).\n",
    "\n",
    "*/\n",
    "\n",
    "public static int factorial(int n)"
   ]
  },
  {
   "cell_type": "markdown",
   "metadata": {},
   "source": [
    "## part b\n",
    "(b) A combination is a selection of items from a group of choices when the order that the items are selected does not matter. For example, if there are four available choices (A, B, C, and D), there are six different ways that two items can be selected (A and B, A and C, A and D, B and C, B and D, C and D). The number of possible combinations of r\n",
    " items from a group of n\n",
    " choices can be calculated according to the following rules.\n",
    "\n",
    "If r\n",
    " is greater than n\n",
    ", then the number of possible combinations is 0\n",
    ".\n",
    "If r\n",
    " is not greater than n\n",
    ", then the number of possible combinations is equal to n!r!(n−r)!\n",
    ".\n",
    "The numCombinations method is intended to calculate the number of possible combinations of r items from a group of n choices and print the result. Examples of the intended behavior of the method are shown in the table."
   ]
  },
  {
   "cell_type": "code",
   "execution_count": 3,
   "metadata": {
    "vscode": {
     "languageId": "java"
    }
   },
   "outputs": [
    {
     "name": "stdout",
     "output_type": "stream",
     "text": [
      "There are 0 ways of choosing 4 items from 2 choices.\n",
      "There are 10 ways of choosing 3 items from 5 choices.\n"
     ]
    }
   ],
   "source": [
    "public class Combinatorics {\n",
    "    /**\n",
    " \n",
    "     * Returns the factorial of n.\n",
    "     */\n",
    "    public static int factorial(int n) {\n",
    "        if (n == 1) {\n",
    "            return 1;\n",
    "        } else {\n",
    "            return n * factorial(n - 1); //recursion calling factorial method \n",
    "        }\n",
    "    }\n",
    "\n",
    "   \n",
    "    public static void numCombinations(int n, int r) { // n represents total number of choices r is number of choices to be chosen\n",
    "        if (r > n) {\n",
    "            System.out.println(\"There are 0 ways of choosing \" + r + \" items from \" + n + \" choices.\");\n",
    "        } else {\n",
    "            int combinations = factorial(n) / (factorial(r) * factorial(n - r)); //formula given in problem \n",
    "            System.out.println(\"There are \" + combinations + \" ways of choosing \" + r + \" items from \" + n + \" choices.\");\n",
    "        }\n",
    "    }\n",
    "\n",
    "    // Tester method\n",
    "    public static void main(String[] args) {\n",
    "        numCombinations(2, 4);\n",
    "        numCombinations(5, 3);\n",
    "    }\n",
    "}\n",
    "Combinatorics.main(null);"
   ]
  }
 ],
 "metadata": {
  "kernelspec": {
   "display_name": "Java",
   "language": "java",
   "name": "java"
  },
  "language_info": {
   "codemirror_mode": "java",
   "file_extension": ".jshell",
   "mimetype": "text/x-java-source",
   "name": "Java",
   "pygments_lexer": "java",
   "version": "19"
  },
  "orig_nbformat": 4
 },
 "nbformat": 4,
 "nbformat_minor": 2
}
