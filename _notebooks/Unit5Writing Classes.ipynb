{
 "cells": [
  {
   "cell_type": "markdown",
   "metadata": {},
   "source": [
    "# CB Unit 5"
   ]
  },
  {
   "cell_type": "markdown",
   "metadata": {},
   "source": [
    "### 2019 FRQ 2"
   ]
  },
  {
   "cell_type": "markdown",
   "metadata": {},
   "source": [
    "Write the complete StepTracker class, including the constructor and any required instance variables and\n",
    "methods. Your implementation must meet all specifications and conform to the example. "
   ]
  },
  {
   "cell_type": "code",
   "execution_count": 1,
   "metadata": {},
   "outputs": [],
   "source": [
    "public class StepTracker {\n",
    "    private int steps;\n",
    "    private int minSteps;\n",
    "    private int daysActive;\n",
    "    private int daysTotals;\n",
    "\n",
    "    public StepTracker(int minSteps){\n",
    "        this.minSteps = minSteps;\n",
    "        steps = 0;\n",
    "        daysActive = 0;\n",
    "        daysTotals = 0;\n",
    "    }\n",
    "\n",
    "    public void addDailySteps(int newSteps) {\n",
    "        steps += newSteps;\n",
    "        daysTotals++;\n",
    "        if(newSteps >= minSteps){\n",
    "            daysActive++;\n",
    "        }\n",
    "    }\n",
    "\n",
    "    public int activeDays(){\n",
    "        return daysActive;\n",
    "    }\n",
    "\n",
    "    public double averageSteps(){\n",
    "        if(daysTotals == 0){\n",
    "            return 0;\n",
    "        }\n",
    "        return (double)steps / (double) daysTotals;\n",
    "    }\n",
    "    \n",
    "}"
   ]
  }
 ],
 "metadata": {
  "kernelspec": {
   "display_name": "Java",
   "language": "java",
   "name": "java"
  },
  "language_info": {
   "codemirror_mode": "java",
   "file_extension": ".jshell",
   "mimetype": "text/x-java-source",
   "name": "java",
   "pygments_lexer": "java",
   "version": "19"
  },
  "orig_nbformat": 4
 },
 "nbformat": 4,
 "nbformat_minor": 2
}
