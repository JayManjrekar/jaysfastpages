{
 "cells": [
  {
   "cell_type": "markdown",
   "metadata": {},
   "source": [
    "# CB Unit 5"
   ]
  },
  {
   "cell_type": "markdown",
   "metadata": {},
   "source": [
    "Object – characterized by state, attributes, and behavior.\n",
    "o Instance of a class\n",
    "● All OOP (Object-Oriented Programming) languages try to represent an object as a\n",
    "variable or an instance in a program.\n",
    "● Class – Defines another abstract data type in the program\n",
    "● Object references\n",
    "o String variables\n",
    "● Instance Variables\n",
    "o Attributes and behaviors\n",
    "o Hold data for objects\n",
    "● Methods – Code for behaviors or any actions that apply to the objects.\n",
    "● Constructors – Used to initialize the instance variables\n",
    "o When an object is created\n",
    "● Main Methods – Used to test the class\n",
    "● Instance variables\n",
    "o Attributes/behaviors\n",
    "o Fields\n",
    "o Properties"
   ]
  },
  {
   "cell_type": "markdown",
   "metadata": {},
   "source": [
    "### 2019 FRQ 2"
   ]
  },
  {
   "cell_type": "markdown",
   "metadata": {},
   "source": [
    "Write the complete StepTracker class, including the constructor and any required instance variables and\n",
    "methods. Your implementation must meet all specifications and conform to the example. "
   ]
  },
  {
   "cell_type": "code",
   "execution_count": 1,
   "metadata": {},
   "outputs": [],
   "source": [
    "public class StepTracker {\n",
    "    private int steps;\n",
    "    private int minSteps;\n",
    "    private int daysActive;\n",
    "    private int daysTotals;\n",
    "\n",
    "    public StepTracker(int minSteps){\n",
    "        this.minSteps = minSteps;\n",
    "        steps = 0;\n",
    "        daysActive = 0;\n",
    "        daysTotals = 0;\n",
    "    }\n",
    "\n",
    "    public void addDailySteps(int newSteps) {\n",
    "        steps += newSteps;\n",
    "        daysTotals++;\n",
    "        if(newSteps >= minSteps){\n",
    "            daysActive++;\n",
    "        }\n",
    "    }\n",
    "\n",
    "    public int activeDays(){\n",
    "        return daysActive;\n",
    "    }\n",
    "\n",
    "    public double averageSteps(){\n",
    "        if(daysTotals == 0){\n",
    "            return 0;\n",
    "        }\n",
    "        return (double)steps / (double) daysTotals;\n",
    "    }\n",
    "    \n",
    "}"
   ]
  }
 ],
 "metadata": {
  "kernelspec": {
   "display_name": "Java",
   "language": "java",
   "name": "java"
  },
  "language_info": {
   "codemirror_mode": "java",
   "file_extension": ".jshell",
   "mimetype": "text/x-java-source",
   "name": "java",
   "pygments_lexer": "java",
   "version": "19"
  },
  "orig_nbformat": 4
 },
 "nbformat": 4,
 "nbformat_minor": 2
}
