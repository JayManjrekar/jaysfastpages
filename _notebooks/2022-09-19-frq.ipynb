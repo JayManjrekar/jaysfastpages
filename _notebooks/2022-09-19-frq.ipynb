{
 "cells": [
  {
   "cell_type": "markdown",
   "metadata": {},
   "source": [
    "# I am doing FRQ 2020 2"
   ]
  },
  {
   "cell_type": "markdown",
   "metadata": {},
   "source": [
    "### Code Explanation Part A and B\n",
    "\n",
    "#### Part A\n",
    "\n",
    "-The variable counter is created in order to be a placeholder for the leap years\n",
    "\n",
    "-The for loop iterates through every year from year 1 to 2 and the isLeap method is called with the year\n",
    "-The if statement is a conditional to determine if the year is a leap year\n",
    "-If it is a leap year the counter will increment and is returned on the last line\n",
    "\n",
    "#### Part B\n",
    "\n",
    "-The firstday is able to give in integer whc specifies the date\n",
    "-The dayYear gives the date the day is on\n",
    "-firstDay is used to store the year and day of the year \n",
    "- Modulus 7 ensures that the values are within the days of the week index (7 days in a week)\n"
   ]
  },
  {
   "cell_type": "code",
   "execution_count": null,
   "metadata": {
    "vscode": {
     "languageId": "plaintext"
    }
   },
   "outputs": [],
   "source": [
    "public static int numberOfLeaps(int year1, int) {\n",
    "    int counter = 0;\n",
    "    for(int i = year1; i<= year2; i++) {\n",
    "        if(isLeap(i)){\n",
    "            counter++\n",
    "        }\n",
    "    }\n",
    "    return counter;\n",
    "}\n",
    "\n",
    "public static int dayWeek(int month, int day, int year) {\n",
    "    int day = firstDayofYear(year);\n",
    "    day += (dayYear(month, day, year)-1);\n",
    "    return day % 7\n",
    "}"
   ]
  }
 ],
 "metadata": {
  "language_info": {
   "name": "python"
  },
  "orig_nbformat": 4
 },
 "nbformat": 4,
 "nbformat_minor": 2
}
