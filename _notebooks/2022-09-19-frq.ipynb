{
 "cells": [
  {
   "cell_type": "markdown",
   "metadata": {},
   "source": [
    "# I am doing FRQ 2020 2"
   ]
  },
  {
   "cell_type": "markdown",
   "metadata": {},
   "source": [
    "### Code Explanation Part A and B\n",
    "\n",
    "#### Part A\n",
    "\n",
    "-The variable counter is created in order to be a placeholder for the leap years\n",
    "\n",
    "-The for loop iterates through every year from year 1 to 2 and the isLeap method is called with the year\n",
    "-The if statement is a conditional to determine if the year is a leap year\n",
    "-If it is a leap year the counter will increment and is returned on the last line\n",
    "\n",
    "#### Part B\n",
    "\n",
    "-The firstday is able to give in integer whc specifies the date\n",
    "-The dayYear gives the date the day is on\n",
    "-firstDay is used to store the year and day of the year \n",
    "- Modulus 7 ensures that the values are within the days of the week index (7 days in a week)\n"
   ]
  },
  {
   "cell_type": "code",
   "execution_count": 2,
   "metadata": {},
   "outputs": [
    {
     "ename": "CompilationException",
     "evalue": "",
     "output_type": "error",
     "traceback": [
      "\u001b[1m\u001b[30m|   \u001b[1m\u001b[30mpublic static int numberOfLeaps(int year1, int\u001b[0m\u001b[1m\u001b[30m\u001b[41m\u001b[0m\u001b[1m\u001b[30m) {\u001b[0m",
      "\u001b[1m\u001b[31m<identifier> expected\u001b[0m",
      ""
     ]
    }
   ],
   "source": [
    "public static int numberOfLeaps(int year1, int year2) {\n",
    "    int counter = 0;\n",
    "    for(int i = year1; i<= year2; i++) {\n",
    "        if(isLeap(i)){\n",
    "            counter++;\n",
    "        }\n",
    "    }\n",
    "    return counter;\n",
    "}\n",
    "\n",
    "public static int dayWeek(int month, int day, int year) {\n",
    "    int day = firstDayofYear(year);\n",
    "    day += (dayYear(month, day, year)-1);\n",
    "    return day % 7\n",
    "}"
   ]
  }
 ],
 "metadata": {
  "kernelspec": {
   "display_name": "Java",
   "language": "java",
   "name": "java"
  },
  "language_info": {
   "codemirror_mode": "java",
   "file_extension": ".jshell",
   "mimetype": "text/x-java-source",
   "name": "java",
   "pygments_lexer": "java",
   "version": "11.0.16+8-post-Ubuntu-0ubuntu120.04"
  },
  "orig_nbformat": 4
 },
 "nbformat": 4,
 "nbformat_minor": 2
}
