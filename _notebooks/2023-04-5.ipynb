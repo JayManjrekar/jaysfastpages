{
 "cells": [
  {
   "cell_type": "code",
   "execution_count": 6,
   "metadata": {
    "vscode": {
     "languageId": "java"
    }
   },
   "outputs": [
    {
     "name": "stdout",
     "output_type": "stream",
     "text": [
      "[11, 15, 22, 23, 32]\n"
     ]
    }
   ],
   "source": [
    "public static void selectionSort(int[] myArray) {\n",
    "    int n = myArray.length;\n",
    "\n",
    "    // One by one move boundary of unsorted subarray\n",
    "    for (int i = 0; i < n-1; i++) {\n",
    "        // Find the minimum element in unsorted array\n",
    "        int minIndex = i;\n",
    "        for (int j = i+1; j < n; j++)\n",
    "            if (myArray[j] < myArray[minIndex])\n",
    "                minIndex = j;\n",
    "\n",
    "        // Swap the found minimum element with the first element\n",
    "        int temp = myArray[minIndex];\n",
    "        myArray[minIndex] = myArray[i];\n",
    "        myArray[i] = temp;\n",
    "    }\n",
    "}\n",
    "\n",
    "int[] myArray = { 32, 15, 22, 23, 11 };\n",
    "selectionSort(myArray);\n",
    "System.out.println(Arrays.toString(myArray)); // output: [11, 12, 22, 25, 64]\n",
    "\n"
   ]
  }
 ],
 "metadata": {
  "kernelspec": {
   "display_name": "Java",
   "language": "java",
   "name": "java"
  },
  "language_info": {
   "codemirror_mode": "java",
   "file_extension": ".jshell",
   "mimetype": "text/x-java-source",
   "name": "Java",
   "pygments_lexer": "java",
   "version": "19"
  },
  "orig_nbformat": 4
 },
 "nbformat": 4,
 "nbformat_minor": 2
}
