{
 "cells": [
  {
   "cell_type": "markdown",
   "metadata": {},
   "source": [
    "## Selection Sort"
   ]
  },
  {
   "cell_type": "code",
   "execution_count": 9,
   "metadata": {
    "vscode": {
     "languageId": "java"
    }
   },
   "outputs": [
    {
     "name": "stdout",
     "output_type": "stream",
     "text": [
      "[11, 15, 22, 23, 32]\n"
     ]
    }
   ],
   "source": [
    "public static void selectionSort(int[] myArray) {\n",
    "    int n = myArray.length;\n",
    "\n",
    "    // One by one move boundary of unsorted subarray\n",
    "    for (int i = 0; i < n-1; i++) {\n",
    "        // Find the minimum element in unsorted array\n",
    "        int minIndex = i;\n",
    "        for (int j = i+1; j < n; j++)\n",
    "            if (myArray[j] < myArray[minIndex])\n",
    "                minIndex = j;\n",
    "\n",
    "        // Swap the found minimum element with the first element\n",
    "        int temp = myArray[minIndex];\n",
    "        myArray[minIndex] = myArray[i];\n",
    "        myArray[i] = temp;\n",
    "    }\n",
    "}\n",
    "\n",
    "int[] myArray = { 32, 15, 22, 23, 11 };\n",
    "selectionSort(myArray);\n",
    "System.out.println(Arrays.toString(myArray)); // output: [11, 12, 22, 25, 64]\n",
    "\n"
   ]
  },
  {
   "cell_type": "markdown",
   "metadata": {},
   "source": [
    "## Hashmaps"
   ]
  },
  {
   "cell_type": "code",
   "execution_count": 2,
   "metadata": {
    "vscode": {
     "languageId": "java"
    }
   },
   "outputs": [
    {
     "name": "stdout",
     "output_type": "stream",
     "text": [
      "Player height map: {Emily=175, Mike=190, Sarah=165, John=180}\n",
      "Mike is 190cm tall.\n"
     ]
    }
   ],
   "source": [
    "import java.util.HashMap;\n",
    "\n",
    "public class PlayerHeightMap {\n",
    "    \n",
    "    public static void main(String[] args) {\n",
    "        \n",
    "        HashMap<String, Integer> playerHeightMap = new HashMap<String, Integer>();\n",
    "        \n",
    "        // Add player names and heights to the map\n",
    "        playerHeightMap.put(\"John\", 180);\n",
    "        playerHeightMap.put(\"Sarah\", 165);\n",
    "        playerHeightMap.put(\"Mike\", 190);\n",
    "        playerHeightMap.put(\"Emily\", 175);\n",
    "        \n",
    "        // Print out the map\n",
    "        System.out.println(\"Player height map: \" + playerHeightMap);\n",
    "        \n",
    "        // Retrieve the height of a player by name\n",
    "        String playerName = \"Mike\";\n",
    "        if (playerHeightMap.containsKey(playerName)) {\n",
    "            int playerHeight = playerHeightMap.get(playerName);\n",
    "            System.out.println(playerName + \" is \" + playerHeight + \"cm tall.\");\n",
    "        } else {\n",
    "            System.out.println(\"Unknown player: \" + playerName);\n",
    "        }\n",
    "    }\n",
    "}\n",
    "PlayerHeightMap.main(null);"
   ]
  },
  {
   "cell_type": "code",
   "execution_count": null,
   "metadata": {
    "vscode": {
     "languageId": "java"
    }
   },
   "outputs": [],
   "source": []
  }
 ],
 "metadata": {
  "kernelspec": {
   "display_name": "Java",
   "language": "java",
   "name": "java"
  },
  "language_info": {
   "codemirror_mode": "java",
   "file_extension": ".jshell",
   "mimetype": "text/x-java-source",
   "name": "Java",
   "pygments_lexer": "java",
   "version": "19"
  },
  "orig_nbformat": 4
 },
 "nbformat": 4,
 "nbformat_minor": 2
}
