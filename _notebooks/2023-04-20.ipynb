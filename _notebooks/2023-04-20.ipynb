{
 "cells": [
  {
   "cell_type": "code",
   "execution_count": 8,
   "metadata": {
    "vscode": {
     "languageId": "java"
    }
   },
   "outputs": [
    {
     "name": "stdout",
     "output_type": "stream",
     "text": [
      "Book id: 5 book: John\n",
      "Book id: 7 book: Mr. Krabs\n",
      "Book count: 8\n"
     ]
    }
   ],
   "source": [
    "import java.util.UUID;\n",
    "\n",
    "public class Book {\n",
    "    private int id;\n",
    "    private String name;\n",
    "    private static int bookCount = 0;\n",
    "\n",
    "    public Book(String name) {\n",
    "        this.id = ++bookCount;\n",
    "        this.name = name;\n",
    "        bookCount++;\n",
    "    }\n",
    "\n",
    "    public String toString() {\n",
    "        return \"Book id: \" + this.id + \" book: \" + this.name; \n",
    "    }\n",
    "\n",
    "    public int getId() {\n",
    "        return this.id;\n",
    "    }\n",
    "\n",
    "    public static void main(String[] args) {\n",
    "        Book book1 = new Book(\"John\");\n",
    "        Book book2 = new Book(\"Mr. Krabs\");\n",
    "        \n",
    "        System.out.println(book1);\n",
    "        System.out.println(book2);\n",
    "        System.out.println(\"Book count: \" + Book.getBookCount());\n",
    "    }\n",
    "    \n",
    "    public static int getBookCount() {\n",
    "        return bookCount;\n",
    "    }\n",
    "}\n",
    "Book.main(null);\n"
   ]
  },
  {
   "cell_type": "code",
   "execution_count": 23,
   "metadata": {
    "vscode": {
     "languageId": "java"
    }
   },
   "outputs": [
    {
     "name": "stdout",
     "output_type": "stream",
     "text": [
      "null\n",
      "2023-04-21T10:53:58.298505\n",
      "NewestAuthor\n",
      "2023-04-21T10:53:58.299022\n"
     ]
    }
   ],
   "source": [
    "import java.time.LocalDateTime;\n",
    "public class Novel extends Book{\n",
    "    private String author;\n",
    "    private LocalDateTime today;\n",
    "\n",
    "    public Novel(String title){\n",
    "        super(title);\n",
    "        LocalDateTime today = LocalDateTime.now();\n",
    "        this.today = today;\n",
    "    }\n",
    "\n",
    "    public String getAuthor(){\n",
    "        return this.author;\n",
    "    }\n",
    "\n",
    "    public LocalDateTime getLocalDateTime(){\n",
    "        return this.today;\n",
    "    }\n",
    "\n",
    "    public void setAuthor(String authorName){\n",
    "        this.author = authorName;\n",
    "    }\n",
    "\n",
    "    public void setLocalDateTime(LocalDateTime newDate){\n",
    "        this.today = newDate;\n",
    "    }\n",
    "\n",
    "    public static void main(String[] args) {\n",
    "        Novel newNovel = new Novel(\"Brixton bully\");\n",
    "        System.out.println(newNovel.getAuthor());\n",
    "        System.out.println(newNovel.getLocalDateTime());\n",
    "        newNovel.setAuthor(\"NewestAuthor\");\n",
    "        LocalDateTime today = LocalDateTime.now();\n",
    "        newNovel.setLocalDateTime(today);\n",
    "        System.out.println(newNovel.getAuthor());\n",
    "        System.out.println(newNovel.getLocalDateTime());\n",
    "        \n",
    "    }\n",
    "\n",
    "\n",
    "\n",
    "\n",
    "\n",
    "\n",
    "\n",
    "}\n",
    "\n",
    "Novel.main(null);"
   ]
  },
  {
   "cell_type": "code",
   "execution_count": 28,
   "metadata": {
    "vscode": {
     "languageId": "java"
    }
   },
   "outputs": [
    {
     "name": "stdout",
     "output_type": "stream",
     "text": [
      "null\n",
      "2023-04-21T10:55:43.966726\n",
      "Newest Publisher\n",
      "2023-04-21T10:55:43.967084\n"
     ]
    }
   ],
   "source": [
    "import java.time.LocalDateTime;\n",
    "public class Textbook extends Book{\n",
    "    private String publisher;\n",
    "    private LocalDateTime today;\n",
    "\n",
    "    public Textbook(String title){\n",
    "        super(title);\n",
    "        LocalDateTime today = LocalDateTime.now();\n",
    "        this.today = today;\n",
    "    }\n",
    "\n",
    "    public String getPublisher(){\n",
    "        return this.publisher;\n",
    "    }\n",
    "\n",
    "    public LocalDateTime getLocalDateTime(){\n",
    "        return this.today;\n",
    "    }\n",
    "\n",
    "    public void setPublisher(String publisherName){\n",
    "        this.publisher = publisherName;\n",
    "    }\n",
    "\n",
    "    public void setLocalDateTime(LocalDateTime newDate){\n",
    "        this.today = newDate;\n",
    "    }\n",
    "\n",
    "    public static void main(String[] args) {\n",
    "        Textbook newTextbook = new Textbook(\"Brixton bully\");\n",
    "        System.out.println(newTextbook.getPublisher());\n",
    "        System.out.println(newTextbook.getLocalDateTime());\n",
    "        newTextbook.setPublisher(\"Newest Publisher\");\n",
    "        LocalDateTime today = LocalDateTime.now();\n",
    "        newTextbook.setLocalDateTime(today);\n",
    "        System.out.println(newTextbook.getPublisher());\n",
    "        System.out.println(newTextbook.getLocalDateTime());\n",
    "        \n",
    "    }\n",
    "}\n",
    "\n",
    "    Textbook.main(null);"
   ]
  }
 ],
 "metadata": {
  "kernelspec": {
   "display_name": "Java",
   "language": "java",
   "name": "java"
  },
  "language_info": {
   "codemirror_mode": "java",
   "file_extension": ".jshell",
   "mimetype": "text/x-java-source",
   "name": "Java",
   "pygments_lexer": "java",
   "version": "19"
  },
  "orig_nbformat": 4
 },
 "nbformat": 4,
 "nbformat_minor": 2
}
