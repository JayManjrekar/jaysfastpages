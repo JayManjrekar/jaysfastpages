{
 "cells": [
  {
   "cell_type": "code",
   "execution_count": 4,
   "metadata": {
    "vscode": {
     "languageId": "java"
    }
   },
   "outputs": [
    {
     "name": "stdout",
     "output_type": "stream",
     "text": [
      "Book id: 1 book: Book 1\n",
      "Book id: 2 book: Book 2\n",
      "Book count: 2\n"
     ]
    }
   ],
   "source": [
    "import java.util.UUID;\n",
    "\n",
    "public class Book {\n",
    "    private int id;\n",
    "    private String name;\n",
    "    private static int bookCount = 0;\n",
    "\n",
    "    public Book(String name) {\n",
    "        this.id = ++bookCount;\n",
    "        this.name = name;\n",
    "    }\n",
    "\n",
    "    public String toString() {\n",
    "        return \"Book id: \" + this.id + \" book: \" + this.name; \n",
    "    }\n",
    "\n",
    "    public int getId() {\n",
    "        return this.id;\n",
    "    }\n",
    "\n",
    "    public static void main(String[] args) {\n",
    "        Book book1 = new Book(\"Book 1\");\n",
    "        Book book2 = new Book(\"Book 2\");\n",
    "        \n",
    "        System.out.println(book1);\n",
    "        System.out.println(book2);\n",
    "        System.out.println(\"Book count: \" + Book.getBookCount());\n",
    "    }\n",
    "    \n",
    "    public static int getBookCount() {\n",
    "        return bookCount;\n",
    "    }\n",
    "}\n",
    "Book.main(null);\n"
   ]
  }
 ],
 "metadata": {
  "kernelspec": {
   "display_name": "Java",
   "language": "java",
   "name": "java"
  },
  "language_info": {
   "codemirror_mode": "java",
   "file_extension": ".jshell",
   "mimetype": "text/x-java-source",
   "name": "Java",
   "pygments_lexer": "java",
   "version": "19"
  },
  "orig_nbformat": 4
 },
 "nbformat": 4,
 "nbformat_minor": 2
}
