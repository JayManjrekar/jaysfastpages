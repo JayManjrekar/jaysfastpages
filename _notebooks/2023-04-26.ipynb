{
 "cells": [
  {
   "cell_type": "markdown",
   "metadata": {},
   "source": [
    "# Hetvi Hw"
   ]
  },
  {
   "cell_type": "markdown",
   "metadata": {},
   "source": [
    "## Hack 1"
   ]
  },
  {
   "cell_type": "code",
   "execution_count": 15,
   "metadata": {
    "vscode": {
     "languageId": "java"
    }
   },
   "outputs": [
    {
     "name": "stdout",
     "output_type": "stream",
     "text": [
      "How many cars do you have? \n",
      "The total number of wheels on your car is 12\n"
     ]
    }
   ],
   "source": [
    "import java.util.Scanner;  // Import the Scanner class\n",
    "\n",
    "public class Cars {\n",
    "    public static void main(String[] args) {\n",
    "      Scanner carobj = new Scanner(System.in);  // Create a Scanner object\n",
    "      System.out.println(\"How many cars do you have? \");\n",
    "      int carNum = carobj.nextInt(); //stores how many cars user inputs\n",
    "\n",
    "      System.out.println(\"The total number of wheels on your car is \" + carNum * 4);\n",
    "\n",
    "    }\n",
    "}\n",
    "\n",
    "Cars.main(null);\n",
    "\n",
    "\n",
    "\n",
    "\n"
   ]
  },
  {
   "cell_type": "markdown",
   "metadata": {},
   "source": [
    "## Hack 2"
   ]
  },
  {
   "cell_type": "code",
   "execution_count": 21,
   "metadata": {
    "vscode": {
     "languageId": "java"
    }
   },
   "outputs": [
    {
     "name": "stdout",
     "output_type": "stream",
     "text": [
      "Make: Toyota , Model: Corolla , Year 2010 ,Price 2.5 ,Used true\n",
      "Make: Ferrari , Model: Spider , Year 2015 ,Price 3.5 ,Used true\n",
      "Make: Lambo , Model: Aventador , Year 2018 ,Price 4.5 ,Used true\n"
     ]
    }
   ],
   "source": [
    "import java.util.ArrayList; // import the ArrayList class\n",
    "public class Car {\n",
    "    // create constructor\n",
    "    private String make;\n",
    "    private String model;\n",
    "    private int year;\n",
    "    private double price;\n",
    "    private boolean isUsed;\n",
    "    public Car(String make, String model, int year, double price, boolean isUsed){\n",
    "        this.make = make;\n",
    "        this.model = model;\n",
    "        this.year = year;\n",
    "        this.price = price;\n",
    "        this.isUsed = isUsed;\n",
    "    }\n",
    "    public String toString() {\n",
    "        // method to print car details\n",
    "        return \"Make: \" + make + \" , Model: \" + model + \" , Year \" + year + \" ,Price \" + price + \" ,Used \" + isUsed;\n",
    "        \n",
    "    }\n",
    "\n",
    "    public static void main(String args[]){\n",
    "        Car car1 = new Car(\"Toyota\", \"Corolla\", 2010, 2.50, true);\n",
    "        Car car2 = new Car(\"Ferrari\", \"Spider\", 2015, 3.50, true);\n",
    "        Car car3 = new Car(\"Lambo\", \"Aventador\", 2018, 4.50, true);\n",
    "\n",
    "        ArrayList<Car> cars = new ArrayList<Car>(); // Create an ArrayList object\n",
    "        cars.add(car1);\n",
    "        cars.add(car2);\n",
    "        cars.add(car3);\n",
    "\n",
    "        for(int i = 0; i<cars.size(); i++){\n",
    "            System.out.println(cars.get(i));\n",
    "        }\n",
    "\n",
    "\n",
    "        \n",
    "\n",
    "\n",
    "\n",
    "    }\n",
    "}\n",
    "\n",
    "Car.main(null);"
   ]
  },
  {
   "cell_type": "markdown",
   "metadata": {},
   "source": [
    "## Hack 3"
   ]
  },
  {
   "cell_type": "code",
   "execution_count": 1,
   "metadata": {
    "vscode": {
     "languageId": "java"
    }
   },
   "outputs": [
    {
     "name": "stdout",
     "output_type": "stream",
     "text": [
      "Make: Ferrari , Model: Spider , Year 2020 ,Price 25.0\n"
     ]
    }
   ],
   "source": [
    "public class Car {\n",
    "    private String make;\n",
    "    private String model;\n",
    "    private int year;\n",
    "    private double price;\n",
    "    \n",
    "    // Constructor\n",
    "    public Car(String make, String model, int year, double price) {\n",
    "        this.make = make;\n",
    "        this.model = model;\n",
    "        this.year = year;\n",
    "        this.price = price;\n",
    "    }\n",
    "    \n",
    "    // Getter methods\n",
    "    public String getMake() {\n",
    "        return make;\n",
    "    }\n",
    "    \n",
    "    public String getModel() {\n",
    "        return model;\n",
    "    }\n",
    "    \n",
    "    public int getYear() {\n",
    "        return year;\n",
    "    }\n",
    "    \n",
    "    public double getPrice() {\n",
    "        return price;\n",
    "    }\n",
    "    \n",
    "    // Method to determine if the car is affordable or not\n",
    "    public boolean isAffordable(double budget) {\n",
    "        if (price <= budget) {\n",
    "            return true;\n",
    "        } else {\n",
    "            return false;\n",
    "        }\n",
    "    }\n",
    "\n",
    "    public String toString() {\n",
    "        // method to print car details\n",
    "        return \"Make: \" + make + \" , Model: \" + model + \" , Year \" + year + \" ,Price \" + price;\n",
    "        \n",
    "    }\n",
    "    \n",
    "    // Main method\n",
    "    public static void main(String[] args) {\n",
    "        // Create a new Car object\n",
    "        Car car1 = new Car(\"Ferrari\", \"Spider\", 2020, 25.00);\n",
    "        \n",
    "\n",
    "        // Print the car details\n",
    "        System.out.println(car1);\n",
    "        // Check if the car is affordable with a budget of $20000 using an if-else statement\n",
    "        \n",
    "        // Check if the car is a luxury car based on its price using if-else-if statement\n",
    "    \n",
    "    }\n",
    "}\n",
    "Car.main(null);"
   ]
  },
  {
   "cell_type": "markdown",
   "metadata": {},
   "source": [
    "## Hack 4"
   ]
  },
  {
   "cell_type": "markdown",
   "metadata": {},
   "source": [
    "\n",
    "You are tasked with creating a program that allows a user to enter the number of cars they own, and then input the make and model of each car. The program will then print out the list of cars.\n",
    "\n",
    "Here are the specific requirements:\n",
    "\n",
    "Use a try-catch statement to catch any input/output exceptions that may occur.\n",
    "Use a while loop to ensure that the user enters a positive integer for the number of cars they own.\n",
    "Use a for loop to iterate over each car and prompt the user to enter the make and model of the car."
   ]
  },
  {
   "cell_type": "code",
   "execution_count": 7,
   "metadata": {
    "vscode": {
     "languageId": "java"
    }
   },
   "outputs": [
    {
     "name": "stdout",
     "output_type": "stream",
     "text": [
      "Enter the number of cars you own: \n",
      "Car 1\n",
      "Enter the make: Enter the model: Enter the year: Enter the price: \n",
      "Car 2\n",
      "Enter the make: Enter the model: Enter the year: Enter the price: \n",
      "Your cars:\n",
      "Make: ferrari , Model: ferari , Year 2010 ,Price 20.5\n",
      "Make: Lambo , Model: 2010 , Year 1020 ,Price 12.09\n"
     ]
    }
   ],
   "source": [
    "import java.util.Scanner;\n",
    "\n",
    "public class CarProgram {\n",
    "    public static void main(String[] args) {\n",
    "        Scanner scanner = new Scanner(System.in);\n",
    "        int numberOfCars = 0;\n",
    "\n",
    "        // Use a while loop to ensure the user enters a positive integer for the number of cars\n",
    "        while (numberOfCars <= 0) {\n",
    "            try {\n",
    "                System.out.print(\"Enter the number of cars you own: \");\n",
    "                numberOfCars = Integer.parseInt(scanner.nextLine());\n",
    "                if (numberOfCars <= 0) {\n",
    "                    System.out.println(\"Invalid input. Please enter a positive integer.\");\n",
    "                }\n",
    "            } catch (NumberFormatException e) {\n",
    "                System.out.println(\"Invalid input. Please enter a positive integer.\");\n",
    "            }\n",
    "        }\n",
    "\n",
    "        Car[] cars = new Car[numberOfCars];\n",
    "\n",
    "        for (int i = 0; i < numberOfCars; i++) {\n",
    "            System.out.println(\"\\nCar \" + (i + 1));\n",
    "            System.out.print(\"Enter the make: \");\n",
    "            String make = scanner.nextLine();\n",
    "            System.out.print(\"Enter the model: \");\n",
    "            String model = scanner.nextLine();\n",
    "            System.out.print(\"Enter the year: \");\n",
    "            int year = Integer.parseInt(scanner.nextLine());\n",
    "            System.out.print(\"Enter the price: \");\n",
    "            double price = Double.parseDouble(scanner.nextLine());\n",
    "\n",
    "            cars[i] = new Car(make, model, year, price);\n",
    "        }\n",
    "\n",
    "        System.out.println(\"\\nYour cars:\");\n",
    "        for (Car car : cars) {\n",
    "            System.out.println(car);\n",
    "        }\n",
    "    }\n",
    "}\n",
    "CarProgram.main(null);"
   ]
  }
 ],
 "metadata": {
  "kernelspec": {
   "display_name": "Java",
   "language": "java",
   "name": "java"
  },
  "language_info": {
   "codemirror_mode": "java",
   "file_extension": ".jshell",
   "mimetype": "text/x-java-source",
   "name": "Java",
   "pygments_lexer": "java",
   "version": "19"
  },
  "orig_nbformat": 4
 },
 "nbformat": 4,
 "nbformat_minor": 2
}
