{
 "cells": [
  {
   "cell_type": "markdown",
   "metadata": {},
   "source": [
    "# Hetvi Hw"
   ]
  },
  {
   "cell_type": "markdown",
   "metadata": {},
   "source": [
    "## Hack 1"
   ]
  },
  {
   "cell_type": "code",
   "execution_count": 15,
   "metadata": {},
   "outputs": [
    {
     "name": "stdout",
     "output_type": "stream",
     "text": [
      "How many cars do you have? \n",
      "The total number of wheels on your car is 12\n"
     ]
    }
   ],
   "source": [
    "import java.util.Scanner;  // Import the Scanner class\n",
    "\n",
    "public class Cars {\n",
    "    public static void main(String[] args) {\n",
    "      Scanner carobj = new Scanner(System.in);  // Create a Scanner object\n",
    "      System.out.println(\"How many cars do you have? \");\n",
    "      int carNum = carobj.nextInt(); //stores how many cars user inputs\n",
    "\n",
    "      System.out.println(\"The total number of wheels on your car is \" + carNum * 4);\n",
    "\n",
    "    }\n",
    "}\n",
    "\n",
    "Cars.main(null);\n",
    "\n",
    "\n",
    "\n",
    "\n"
   ]
  },
  {
   "cell_type": "markdown",
   "metadata": {},
   "source": [
    "## Hack 2"
   ]
  },
  {
   "cell_type": "code",
   "execution_count": 21,
   "metadata": {},
   "outputs": [
    {
     "name": "stdout",
     "output_type": "stream",
     "text": [
      "Make: Toyota , Model: Corolla , Year 2010 ,Price 2.5 ,Used true\n",
      "Make: Ferrari , Model: Spider , Year 2015 ,Price 3.5 ,Used true\n",
      "Make: Lambo , Model: Aventador , Year 2018 ,Price 4.5 ,Used true\n"
     ]
    }
   ],
   "source": [
    "import java.util.ArrayList; // import the ArrayList class\n",
    "public class Car {\n",
    "    // create constructor\n",
    "    private String make;\n",
    "    private String model;\n",
    "    private int year;\n",
    "    private double price;\n",
    "    private boolean isUsed;\n",
    "    public Car(String make, String model, int year, double price, boolean isUsed){\n",
    "        this.make = make;\n",
    "        this.model = model;\n",
    "        this.year = year;\n",
    "        this.price = price;\n",
    "        this.isUsed = isUsed;\n",
    "    }\n",
    "    public String toString() {\n",
    "        // method to print car details\n",
    "        return \"Make: \" + make + \" , Model: \" + model + \" , Year \" + year + \" ,Price \" + price + \" ,Used \" + isUsed;\n",
    "        \n",
    "    }\n",
    "\n",
    "    public static void main(String args[]){\n",
    "        Car car1 = new Car(\"Toyota\", \"Corolla\", 2010, 2.50, true);\n",
    "        Car car2 = new Car(\"Ferrari\", \"Spider\", 2015, 3.50, true);\n",
    "        Car car3 = new Car(\"Lambo\", \"Aventador\", 2018, 4.50, true);\n",
    "\n",
    "        ArrayList<Car> cars = new ArrayList<Car>(); // Create an ArrayList object\n",
    "        cars.add(car1);\n",
    "        cars.add(car2);\n",
    "        cars.add(car3);\n",
    "\n",
    "        for(int i = 0; i<cars.size(); i++){\n",
    "            System.out.println(cars.get(i));\n",
    "        }\n",
    "\n",
    "\n",
    "        \n",
    "\n",
    "\n",
    "\n",
    "    }\n",
    "}\n",
    "\n",
    "Car.main(null);"
   ]
  },
  {
   "cell_type": "markdown",
   "metadata": {},
   "source": []
  }
 ],
 "metadata": {
  "kernelspec": {
   "display_name": "Java",
   "language": "java",
   "name": "java"
  },
  "language_info": {
   "codemirror_mode": "java",
   "file_extension": ".jshell",
   "mimetype": "text/x-java-source",
   "name": "java",
   "pygments_lexer": "java",
   "version": "19"
  },
  "orig_nbformat": 4
 },
 "nbformat": 4,
 "nbformat_minor": 2
}
