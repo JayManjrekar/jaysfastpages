{
 "cells": [
  {
   "cell_type": "markdown",
   "metadata": {},
   "source": [
    "# Madhumitas Hw"
   ]
  },
  {
   "cell_type": "markdown",
   "metadata": {},
   "source": [
    "## Hack 1"
   ]
  },
  {
   "cell_type": "code",
   "execution_count": 15,
   "metadata": {
    "vscode": {
     "languageId": "java"
    }
   },
   "outputs": [
    {
     "name": "stdout",
     "output_type": "stream",
     "text": [
      "How many cars do you have? \n",
      "The total number of wheels on your car is 12\n"
     ]
    }
   ],
   "source": [
    "import java.util.Scanner;  // Import the Scanner class\n",
    "\n",
    "public class Cars {\n",
    "    public static void main(String[] args) {\n",
    "      Scanner carobj = new Scanner(System.in);  // Create a Scanner object\n",
    "      System.out.println(\"How many cars do you have? \");\n",
    "      int carNum = carobj.nextInt(); //stores how many cars user inputs\n",
    "\n",
    "      System.out.println(\"The total number of wheels on your car is \" + carNum * 4);\n",
    "\n",
    "    }\n",
    "}\n",
    "\n",
    "Cars.main(null);\n",
    "\n",
    "\n",
    "\n",
    "\n"
   ]
  },
  {
   "cell_type": "markdown",
   "metadata": {},
   "source": [
    "## Hack 2"
   ]
  },
  {
   "cell_type": "code",
   "execution_count": 21,
   "metadata": {
    "vscode": {
     "languageId": "java"
    }
   },
   "outputs": [
    {
     "name": "stdout",
     "output_type": "stream",
     "text": [
      "Make: Toyota , Model: Corolla , Year 2010 ,Price 2.5 ,Used true\n",
      "Make: Ferrari , Model: Spider , Year 2015 ,Price 3.5 ,Used true\n",
      "Make: Lambo , Model: Aventador , Year 2018 ,Price 4.5 ,Used true\n"
     ]
    }
   ],
   "source": [
    "import java.util.ArrayList; // import the ArrayList class\n",
    "public class Car {\n",
    "    // create constructor\n",
    "    private String make;\n",
    "    private String model;\n",
    "    private int year;\n",
    "    private double price;\n",
    "    private boolean isUsed;\n",
    "    public Car(String make, String model, int year, double price, boolean isUsed){\n",
    "        this.make = make;\n",
    "        this.model = model;\n",
    "        this.year = year;\n",
    "        this.price = price;\n",
    "        this.isUsed = isUsed;\n",
    "    }\n",
    "    public String toString() {\n",
    "        // method to print car details\n",
    "        return \"Make: \" + make + \" , Model: \" + model + \" , Year \" + year + \" ,Price \" + price + \" ,Used \" + isUsed;\n",
    "        \n",
    "    }\n",
    "\n",
    "    public static void main(String args[]){\n",
    "        Car car1 = new Car(\"Toyota\", \"Corolla\", 2010, 2.50, true);\n",
    "        Car car2 = new Car(\"Ferrari\", \"Spider\", 2015, 3.50, true);\n",
    "        Car car3 = new Car(\"Lambo\", \"Aventador\", 2018, 4.50, true);\n",
    "\n",
    "        ArrayList<Car> cars = new ArrayList<Car>(); // Create an ArrayList object\n",
    "        cars.add(car1);\n",
    "        cars.add(car2);\n",
    "        cars.add(car3);\n",
    "\n",
    "        for(int i = 0; i<cars.size(); i++){\n",
    "            System.out.println(cars.get(i));\n",
    "        }\n",
    "\n",
    "\n",
    "        \n",
    "\n",
    "\n",
    "\n",
    "    }\n",
    "}\n",
    "\n",
    "Car.main(null);"
   ]
  },
  {
   "cell_type": "markdown",
   "metadata": {},
   "source": [
    "## Hack 3"
   ]
  },
  {
   "cell_type": "code",
   "execution_count": 3,
   "metadata": {
    "vscode": {
     "languageId": "java"
    }
   },
   "outputs": [
    {
     "name": "stdout",
     "output_type": "stream",
     "text": [
      "Make: Ferrari , Model: Spider , Year 2020 ,Price 25.0\n"
     ]
    }
   ],
   "source": [
    "public class Car {\n",
    "    private String make;\n",
    "    private String model;\n",
    "    private int year;\n",
    "    private double price;\n",
    "    \n",
    "    // Constructor\n",
    "    public Car(String make, String model, int year, double price) {\n",
    "        this.make = make;\n",
    "        this.model = model;\n",
    "        this.year = year;\n",
    "        this.price = price;\n",
    "    }\n",
    "    \n",
    "    // Getter methods\n",
    "    public String getMake() {\n",
    "        return make;\n",
    "    }\n",
    "    \n",
    "    public String getModel() {\n",
    "        return model;\n",
    "    }\n",
    "    \n",
    "    public int getYear() {\n",
    "        return year;\n",
    "    }\n",
    "    \n",
    "    public double getPrice() {\n",
    "        return price;\n",
    "    }\n",
    "    \n",
    "    // Method to determine if the car is affordable or not\n",
    "    public boolean isAffordable(double budget) {\n",
    "        if (price <= budget) {\n",
    "            return true;\n",
    "        } else {\n",
    "            return false;\n",
    "        }\n",
    "    }\n",
    "\n",
    "    public String toString() {\n",
    "        // method to print car details\n",
    "        return \"Make: \" + make + \" , Model: \" + model + \" , Year \" + year + \" ,Price \" + price;\n",
    "        \n",
    "    }\n",
    "    \n",
    "    // Main method\n",
    "    public static void main(String[] args) {\n",
    "        // Create a new Car object\n",
    "        Car car1 = new Car(\"Ferrari\", \"Spider\", 2020, 25.00);\n",
    "        \n",
    "\n",
    "        // Print the car details\n",
    "        System.out.println(car1);\n",
    "        // Check if the car is affordable with a budget of $20000 using an if-else statement\n",
    "        \n",
    "        // Check if the car is a luxury car based on its price using if-else-if statement\n",
    "    \n",
    "    }\n",
    "}\n",
    "Car.main(null);"
   ]
  },
  {
   "cell_type": "markdown",
   "metadata": {},
   "source": [
    "## Hack 4"
   ]
  },
  {
   "cell_type": "markdown",
   "metadata": {},
   "source": [
    "\n",
    "You are tasked with creating a program that allows a user to enter the number of cars they own, and then input the make and model of each car. The program will then print out the list of cars.\n",
    "\n",
    "Here are the specific requirements:\n",
    "\n",
    "Use a try-catch statement to catch any input/output exceptions that may occur.\n",
    "Use a while loop to ensure that the user enters a positive integer for the number of cars they own.\n",
    "Use a for loop to iterate over each car and prompt the user to enter the make and model of the car."
   ]
  },
  {
   "cell_type": "code",
   "execution_count": 4,
   "metadata": {
    "vscode": {
     "languageId": "java"
    }
   },
   "outputs": [
    {
     "name": "stdout",
     "output_type": "stream",
     "text": [
      "Enter the number of cars you own: Invalid input. Please enter a positive integer.\n",
      "Enter the number of cars you own: "
     ]
    }
   ],
   "source": [
    "import java.util.Scanner;\n",
    "\n",
    "public class CarProgram {\n",
    "    public static void main(String[] args) {\n",
    "        Scanner scanner = new Scanner(System.in);\n",
    "        int numberOfCars = 0;\n",
    "\n",
    "        // Use a while loop to ensure the user enters a positive integer for the number of cars\n",
    "        while (numberOfCars <= 0) {\n",
    "            try {\n",
    "                System.out.print(\"Enter the number of cars you own: \");\n",
    "                numberOfCars = Integer.parseInt(scanner.nextLine());\n",
    "                if (numberOfCars <= 0) {\n",
    "                    System.out.println(\"Invalid input. Please enter a positive integer.\");\n",
    "                }\n",
    "            } catch (NumberFormatException e) {\n",
    "                System.out.println(\"Invalid input. Please enter a positive integer.\");\n",
    "            }\n",
    "        }\n",
    "\n",
    "        Car[] cars = new Car[numberOfCars];\n",
    "\n",
    "        for (int i = 0; i < numberOfCars; i++) {\n",
    "            System.out.println(\"\\nCar \" + (i + 1));\n",
    "            System.out.print(\"Enter the make: \");\n",
    "            String make = scanner.nextLine();\n",
    "            System.out.print(\"Enter the model: \");\n",
    "            String model = scanner.nextLine();\n",
    "            System.out.print(\"Enter the year: \");\n",
    "            int year = Integer.parseInt(scanner.nextLine());\n",
    "            System.out.print(\"Enter the price: \");\n",
    "            double price = Double.parseDouble(scanner.nextLine());\n",
    "\n",
    "            cars[i] = new Car(make, model, year, price);\n",
    "        }\n",
    "\n",
    "        System.out.println(\"\\nYour cars:\");\n",
    "        for (Car car : cars) {\n",
    "            System.out.println(car);\n",
    "        }\n",
    "    }\n",
    "}\n",
    "CarProgram.main(null);"
   ]
  },
  {
   "cell_type": "markdown",
   "metadata": {},
   "source": [
    "## Extra Credit"
   ]
  },
  {
   "cell_type": "code",
   "execution_count": 2,
   "metadata": {
    "vscode": {
     "languageId": "java"
    }
   },
   "outputs": [],
   "source": [
    "class MemberInfo {\n",
    "    private String name;\n",
    "    private int gradYear;\n",
    "    private boolean goodStanding;\n",
    "\n",
    "    public MemberInfo(String name, int gradYear, boolean goodStanding) {\n",
    "        this.name = name;\n",
    "        this.gradYear = gradYear;\n",
    "        this.goodStanding = goodStanding;\n",
    "    }\n",
    "\n",
    "    public int getGradYear() {\n",
    "        return gradYear;\n",
    "    }\n",
    "\n",
    "    public boolean inGoodStanding() {\n",
    "        return goodStanding;\n",
    "    }\n",
    "\n",
    "    public String getMemberName() {\n",
    "        return name;\n",
    "    }\n",
    "}"
   ]
  },
  {
   "cell_type": "code",
   "execution_count": 3,
   "metadata": {
    "vscode": {
     "languageId": "java"
    }
   },
   "outputs": [
    {
     "name": "stdout",
     "output_type": "stream",
     "text": [
      "Removed members who graduated in 2024:\n",
      "2024: John\n",
      "2024: Emily\n",
      "2024: David\n"
     ]
    }
   ],
   "source": [
    "import java.util.ArrayList;\n",
    "\n",
    "public class ClubMembers {\n",
    "    private ArrayList<MemberInfo> memberList;\n",
    "\n",
    "    public ClubMembers() {\n",
    "        memberList = new ArrayList<>();\n",
    "    }\n",
    "\n",
    "    /**\n",
    "     * Adds new club members to memberList.\n",
    "     * Precondition: names is a non-empty array.\n",
    "     */\n",
    "    public void addMembers(String[] names, int gradYear) {\n",
    "        for (String name : names) {\n",
    "            MemberInfo member = new MemberInfo(name, gradYear, true);\n",
    "            memberList.add(member);\n",
    "        }\n",
    "    }\n",
    "\n",
    "    /**\n",
    "     * Removes members who have graduated and returns a list of members who have\n",
    "     * graduated and are in good standing.\n",
    "     */\n",
    "    public ArrayList<MemberInfo> removeMembers(int year) {\n",
    "        ArrayList<MemberInfo> graduatedMembers = new ArrayList<>();\n",
    "        for (int i = 0; i < memberList.size(); i++) {\n",
    "            MemberInfo member = memberList.get(i);\n",
    "            if (member.getGradYear() == year && member.inGoodStanding()) {\n",
    "                graduatedMembers.add(member);\n",
    "                memberList.remove(i);\n",
    "                i--; // Decrement the index as the list size has changed\n",
    "            }\n",
    "        }\n",
    "        return graduatedMembers;\n",
    "    }\n",
    "\n",
    "    // Tester method\n",
    "    public static void main(String[] args) {\n",
    "        ClubMembers club = new ClubMembers();\n",
    "\n",
    "        // Adding members\n",
    "        String[] names = {\"John\", \"Emily\", \"David\"};\n",
    "        int gradYear = 2024;\n",
    "        club.addMembers(names, gradYear);\n",
    "\n",
    "        // Removing members who graduated in a specific year\n",
    "        int yearToRemove = 2024;\n",
    "        ArrayList<MemberInfo> removedMembers = club.removeMembers(yearToRemove);\n",
    "\n",
    "        // Displaying removed members\n",
    "        System.out.println(\"Removed members who graduated in \" + yearToRemove + \":\");\n",
    "        for (MemberInfo member : removedMembers) {\n",
    "            System.out.println(member.getGradYear() + \": \" + member.getMemberName());\n",
    "        }\n",
    "    }\n",
    "}\n",
    "\n",
    "ClubMembers.main(null);\n"
   ]
  }
 ],
 "metadata": {
  "kernelspec": {
   "display_name": "Java",
   "language": "java",
   "name": "java"
  },
  "language_info": {
   "codemirror_mode": "java",
   "file_extension": ".jshell",
   "mimetype": "text/x-java-source",
   "name": "Java",
   "pygments_lexer": "java",
   "version": "19"
  },
  "orig_nbformat": 4
 },
 "nbformat": 4,
 "nbformat_minor": 2
}
