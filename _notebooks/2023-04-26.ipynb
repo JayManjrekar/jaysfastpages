{
 "cells": [
  {
   "cell_type": "markdown",
   "metadata": {},
   "source": [
    "# Hetvi Hw"
   ]
  },
  {
   "cell_type": "markdown",
   "metadata": {},
   "source": [
    "## Hack 1"
   ]
  },
  {
   "cell_type": "code",
   "execution_count": 15,
   "metadata": {
    "vscode": {
     "languageId": "java"
    }
   },
   "outputs": [
    {
     "name": "stdout",
     "output_type": "stream",
     "text": [
      "How many cars do you have? \n",
      "The total number of wheels on your car is 12\n"
     ]
    }
   ],
   "source": [
    "import java.util.Scanner;  // Import the Scanner class\n",
    "\n",
    "public class Cars {\n",
    "    public static void main(String[] args) {\n",
    "      Scanner carobj = new Scanner(System.in);  // Create a Scanner object\n",
    "      System.out.println(\"How many cars do you have? \");\n",
    "      int carNum = carobj.nextInt(); //stores how many cars user inputs\n",
    "\n",
    "      System.out.println(\"The total number of wheels on your car is \" + carNum * 4);\n",
    "\n",
    "    }\n",
    "}\n",
    "\n",
    "Cars.main(null);\n",
    "\n",
    "\n",
    "\n",
    "\n"
   ]
  },
  {
   "cell_type": "markdown",
   "metadata": {},
   "source": [
    "## Hack 2"
   ]
  },
  {
   "cell_type": "code",
   "execution_count": 21,
   "metadata": {
    "vscode": {
     "languageId": "java"
    }
   },
   "outputs": [
    {
     "name": "stdout",
     "output_type": "stream",
     "text": [
      "Make: Toyota , Model: Corolla , Year 2010 ,Price 2.5 ,Used true\n",
      "Make: Ferrari , Model: Spider , Year 2015 ,Price 3.5 ,Used true\n",
      "Make: Lambo , Model: Aventador , Year 2018 ,Price 4.5 ,Used true\n"
     ]
    }
   ],
   "source": [
    "import java.util.ArrayList; // import the ArrayList class\n",
    "public class Car {\n",
    "    // create constructor\n",
    "    private String make;\n",
    "    private String model;\n",
    "    private int year;\n",
    "    private double price;\n",
    "    private boolean isUsed;\n",
    "    public Car(String make, String model, int year, double price, boolean isUsed){\n",
    "        this.make = make;\n",
    "        this.model = model;\n",
    "        this.year = year;\n",
    "        this.price = price;\n",
    "        this.isUsed = isUsed;\n",
    "    }\n",
    "    public String toString() {\n",
    "        // method to print car details\n",
    "        return \"Make: \" + make + \" , Model: \" + model + \" , Year \" + year + \" ,Price \" + price + \" ,Used \" + isUsed;\n",
    "        \n",
    "    }\n",
    "\n",
    "    public static void main(String args[]){\n",
    "        Car car1 = new Car(\"Toyota\", \"Corolla\", 2010, 2.50, true);\n",
    "        Car car2 = new Car(\"Ferrari\", \"Spider\", 2015, 3.50, true);\n",
    "        Car car3 = new Car(\"Lambo\", \"Aventador\", 2018, 4.50, true);\n",
    "\n",
    "        ArrayList<Car> cars = new ArrayList<Car>(); // Create an ArrayList object\n",
    "        cars.add(car1);\n",
    "        cars.add(car2);\n",
    "        cars.add(car3);\n",
    "\n",
    "        for(int i = 0; i<cars.size(); i++){\n",
    "            System.out.println(cars.get(i));\n",
    "        }\n",
    "\n",
    "\n",
    "        \n",
    "\n",
    "\n",
    "\n",
    "    }\n",
    "}\n",
    "\n",
    "Car.main(null);"
   ]
  },
  {
   "cell_type": "markdown",
   "metadata": {},
   "source": [
    "## Hack 3"
   ]
  },
  {
   "cell_type": "code",
   "execution_count": 3,
   "metadata": {
    "vscode": {
     "languageId": "java"
    }
   },
   "outputs": [
    {
     "name": "stdout",
     "output_type": "stream",
     "text": [
      "Make: Ferrari , Model: Spider , Year 2020 ,Price 25.0\n"
     ]
    }
   ],
   "source": [
    "public class Car {\n",
    "    private String make;\n",
    "    private String model;\n",
    "    private int year;\n",
    "    private double price;\n",
    "    \n",
    "    // Constructor\n",
    "    public Car(String make, String model, int year, double price) {\n",
    "        this.make = make;\n",
    "        this.model = model;\n",
    "        this.year = year;\n",
    "        this.price = price;\n",
    "    }\n",
    "    \n",
    "    // Getter methods\n",
    "    public String getMake() {\n",
    "        return make;\n",
    "    }\n",
    "    \n",
    "    public String getModel() {\n",
    "        return model;\n",
    "    }\n",
    "    \n",
    "    public int getYear() {\n",
    "        return year;\n",
    "    }\n",
    "    \n",
    "    public double getPrice() {\n",
    "        return price;\n",
    "    }\n",
    "    \n",
    "    // Method to determine if the car is affordable or not\n",
    "    public boolean isAffordable(double budget) {\n",
    "        if (price <= budget) {\n",
    "            return true;\n",
    "        } else {\n",
    "            return false;\n",
    "        }\n",
    "    }\n",
    "\n",
    "    public String toString() {\n",
    "        // method to print car details\n",
    "        return \"Make: \" + make + \" , Model: \" + model + \" , Year \" + year + \" ,Price \" + price;\n",
    "        \n",
    "    }\n",
    "    \n",
    "    // Main method\n",
    "    public static void main(String[] args) {\n",
    "        // Create a new Car object\n",
    "        Car car1 = new Car(\"Ferrari\", \"Spider\", 2020, 25.00);\n",
    "        \n",
    "\n",
    "        // Print the car details\n",
    "        System.out.println(car1);\n",
    "        // Check if the car is affordable with a budget of $20000 using an if-else statement\n",
    "        \n",
    "        // Check if the car is a luxury car based on its price using if-else-if statement\n",
    "    \n",
    "    }\n",
    "}\n",
    "Car.main(null);"
   ]
  },
  {
   "cell_type": "markdown",
   "metadata": {},
   "source": [
    "## Hack 4"
   ]
  },
  {
   "cell_type": "markdown",
   "metadata": {},
   "source": [
    "\n",
    "You are tasked with creating a program that allows a user to enter the number of cars they own, and then input the make and model of each car. The program will then print out the list of cars.\n",
    "\n",
    "Here are the specific requirements:\n",
    "\n",
    "Use a try-catch statement to catch any input/output exceptions that may occur.\n",
    "Use a while loop to ensure that the user enters a positive integer for the number of cars they own.\n",
    "Use a for loop to iterate over each car and prompt the user to enter the make and model of the car."
   ]
  },
  {
   "cell_type": "code",
   "execution_count": 4,
   "metadata": {
    "vscode": {
     "languageId": "java"
    }
   },
   "outputs": [
    {
     "name": "stdout",
     "output_type": "stream",
     "text": [
      "Enter the number of cars you own: Invalid input. Please enter a positive integer.\n",
      "Enter the number of cars you own: "
     ]
    }
   ],
   "source": [
    "import java.util.Scanner;\n",
    "\n",
    "public class CarProgram {\n",
    "    public static void main(String[] args) {\n",
    "        Scanner scanner = new Scanner(System.in);\n",
    "        int numberOfCars = 0;\n",
    "\n",
    "        // Use a while loop to ensure the user enters a positive integer for the number of cars\n",
    "        while (numberOfCars <= 0) {\n",
    "            try {\n",
    "                System.out.print(\"Enter the number of cars you own: \");\n",
    "                numberOfCars = Integer.parseInt(scanner.nextLine());\n",
    "                if (numberOfCars <= 0) {\n",
    "                    System.out.println(\"Invalid input. Please enter a positive integer.\");\n",
    "                }\n",
    "            } catch (NumberFormatException e) {\n",
    "                System.out.println(\"Invalid input. Please enter a positive integer.\");\n",
    "            }\n",
    "        }\n",
    "\n",
    "        Car[] cars = new Car[numberOfCars];\n",
    "\n",
    "        for (int i = 0; i < numberOfCars; i++) {\n",
    "            System.out.println(\"\\nCar \" + (i + 1));\n",
    "            System.out.print(\"Enter the make: \");\n",
    "            String make = scanner.nextLine();\n",
    "            System.out.print(\"Enter the model: \");\n",
    "            String model = scanner.nextLine();\n",
    "            System.out.print(\"Enter the year: \");\n",
    "            int year = Integer.parseInt(scanner.nextLine());\n",
    "            System.out.print(\"Enter the price: \");\n",
    "            double price = Double.parseDouble(scanner.nextLine());\n",
    "\n",
    "            cars[i] = new Car(make, model, year, price);\n",
    "        }\n",
    "\n",
    "        System.out.println(\"\\nYour cars:\");\n",
    "        for (Car car : cars) {\n",
    "            System.out.println(car);\n",
    "        }\n",
    "    }\n",
    "}\n",
    "CarProgram.main(null);"
   ]
  },
  {
   "cell_type": "markdown",
   "metadata": {},
   "source": [
    "## Extra Credit"
   ]
  },
  {
   "cell_type": "markdown",
   "metadata": {},
   "source": [
    "## a"
   ]
  },
  {
   "cell_type": "code",
   "execution_count": 1,
   "metadata": {
    "vscode": {
     "languageId": "java"
    }
   },
   "outputs": [],
   "source": [
    "public void addMembers(String[] names, int gradYear) {\n",
    "    for (String name : names) {\n",
    "        MemberInfo member = new MemberInfo(name, gradYear, true); // Assuming all new members are initially in good standing\n",
    "        memberList.add(member);\n",
    "    }\n",
    "}\n"
   ]
  },
  {
   "cell_type": "markdown",
   "metadata": {},
   "source": [
    "## b"
   ]
  },
  {
   "cell_type": "code",
   "execution_count": 3,
   "metadata": {
    "vscode": {
     "languageId": "java"
    }
   },
   "outputs": [
    {
     "ename": "CompilationException",
     "evalue": "",
     "output_type": "error",
     "traceback": [
      "\u001b[1m\u001b[30m|   \u001b[1m\u001b[30mpublic ArrayList<MemberInfo> removeMembers(int year) {\u001b[0m",
      "\u001b[1m\u001b[30m|   \u001b[1m\u001b[30m    ArrayList<MemberInfo> graduatedMembers = new ArrayList<>();\u001b[0m",
      "\u001b[1m\u001b[30m|   \u001b[1m\u001b[30m\u001b[0m",
      "\u001b[1m\u001b[30m|   \u001b[1m\u001b[30m    Iterator<MemberInfo> iterator = memberList.iterator();\u001b[0m",
      "\u001b[1m\u001b[30m|   \u001b[1m\u001b[30m    while (iterator.hasNext()) {\u001b[0m",
      "\u001b[1m\u001b[30m|   \u001b[1m\u001b[30m        MemberInfo member = iterator.next();\u001b[0m",
      "\u001b[1m\u001b[30m|   \u001b[1m\u001b[30m        if (member.getGradYear() <= year && member.inGoodStanding()) {\u001b[0m",
      "\u001b[1m\u001b[30m|   \u001b[1m\u001b[30m            graduatedMembers.add(member);\u001b[0m",
      "\u001b[1m\u001b[30m|   \u001b[1m\u001b[30m            iterator.remove();\u001b[0m",
      "\u001b[1m\u001b[30m|   \u001b[1m\u001b[30m        }\u001b[0m",
      "\u001b[1m\u001b[30m|   \u001b[1m\u001b[30m    }\u001b[0m",
      "\u001b[1m\u001b[30m|   \u001b[1m\u001b[30m\u001b[0m",
      "\u001b[1m\u001b[30m|   \u001b[1m\u001b[30m    return graduatedMembers;\u001b[0m",
      "\u001b[1m\u001b[30m|   \u001b[1m\u001b[30m}\u001b[0m",
      "\u001b[1m\u001b[31mUnresolved dependencies:\u001b[0m",
      "\u001b[1m\u001b[31m   - class MemberInfo\u001b[0m",
      "\u001b[1m\u001b[31m   - variable memberList\u001b[0m"
     ]
    }
   ],
   "source": [
    "public ArrayList<MemberInfo> removeMembers(int year) {\n",
    "    ArrayList<MemberInfo> graduatedMembers = new ArrayList<>();\n",
    "\n",
    "    Iterator<MemberInfo> iterator = memberList.iterator();\n",
    "    while (iterator.hasNext()) {\n",
    "        MemberInfo member = iterator.next();\n",
    "        if (member.getGradYear() <= year && member.inGoodStanding()) {\n",
    "            graduatedMembers.add(member);\n",
    "            iterator.remove();\n",
    "        }\n",
    "    }\n",
    "\n",
    "    return graduatedMembers;\n",
    "}\n"
   ]
  },
  {
   "cell_type": "code",
   "execution_count": 4,
   "metadata": {
    "vscode": {
     "languageId": "java"
    }
   },
   "outputs": [
    {
     "ename": "UnresolvedReferenceException",
     "evalue": "Attempt to use definition snippet with unresolved references in Snippet:ClassKey(MemberTester)#14-public class MemberTester {\n    public static void main(String[] args) {\n        MemberManagementSystem system = new MemberManagementSystem(); // Assuming there's a class called MemberManagementSystem that contains the addMembers and removeMembers methods\n\n        // Adding new members\n        String[] newMembers = {\"John\", \"Emily\", \"Michael\"};\n        int gradYear = 2023;\n        system.addMembers(newMembers, gradYear);\n\n        // Displaying the initial member list\n        System.out.println(\"Initial Member List:\");\n        system.displayMembers();\n\n        // Removing graduated members\n        int currentYear = 2023;\n        ArrayList<MemberInfo> graduatedMembers = system.removeMembers(currentYear);\n\n        // Displaying the graduated members\n        System.out.println(\"\\nGraduated Members:\");\n        for (MemberInfo member : graduatedMembers) {\n            System.out.println(member.getName());\n        }\n\n        // Displaying the updated member list\n        System.out.println(\"\\nUpdated Member List:\");\n        system.displayMembers();\n    }\n}",
     "output_type": "error",
     "traceback": [
      "\u001b[1m\u001b[30m|   \u001b[1m\u001b[30mpublic class MemberTester {\u001b[0m",
      "\u001b[1m\u001b[30m|   \u001b[1m\u001b[30m    public static void main(String[] args) {\u001b[0m",
      "\u001b[1m\u001b[30m|   \u001b[1m\u001b[30m        MemberManagementSystem system = new MemberManagementSystem(); // Assuming there's a class called MemberManagementSystem that contains the addMembers and removeMembers methods\u001b[0m",
      "\u001b[1m\u001b[30m|   \u001b[1m\u001b[30m\u001b[0m",
      "\u001b[1m\u001b[30m|   \u001b[1m\u001b[30m        // Adding new members\u001b[0m",
      "\u001b[1m\u001b[30m|   \u001b[1m\u001b[30m        String[] newMembers = {\"John\", \"Emily\", \"Michael\"};\u001b[0m",
      "\u001b[1m\u001b[30m|   \u001b[1m\u001b[30m        int gradYear = 2023;\u001b[0m",
      "\u001b[1m\u001b[30m|   \u001b[1m\u001b[30m        system.addMembers(newMembers, gradYear);\u001b[0m",
      "\u001b[1m\u001b[30m|   \u001b[1m\u001b[30m\u001b[0m",
      "\u001b[1m\u001b[30m|   \u001b[1m\u001b[30m        // Displaying the initial member list\u001b[0m",
      "\u001b[1m\u001b[30m|   \u001b[1m\u001b[30m        System.out.println(\"Initial Member List:\");\u001b[0m",
      "\u001b[1m\u001b[30m|   \u001b[1m\u001b[30m        system.displayMembers();\u001b[0m",
      "\u001b[1m\u001b[30m|   \u001b[1m\u001b[30m\u001b[0m",
      "\u001b[1m\u001b[30m|   \u001b[1m\u001b[30m        // Removing graduated members\u001b[0m",
      "\u001b[1m\u001b[30m|   \u001b[1m\u001b[30m        int currentYear = 2023;\u001b[0m",
      "\u001b[1m\u001b[30m|   \u001b[1m\u001b[30m        ArrayList<MemberInfo> graduatedMembers = system.removeMembers(currentYear);\u001b[0m",
      "\u001b[1m\u001b[30m|   \u001b[1m\u001b[30m\u001b[0m",
      "\u001b[1m\u001b[30m|   \u001b[1m\u001b[30m        // Displaying the graduated members\u001b[0m",
      "\u001b[1m\u001b[30m|   \u001b[1m\u001b[30m        System.out.println(\"\\nGraduated Members:\");\u001b[0m",
      "\u001b[1m\u001b[30m|   \u001b[1m\u001b[30m        for (MemberInfo member : graduatedMembers) {\u001b[0m",
      "\u001b[1m\u001b[30m|   \u001b[1m\u001b[30m            System.out.println(member.getName());\u001b[0m",
      "\u001b[1m\u001b[30m|   \u001b[1m\u001b[30m        }\u001b[0m",
      "\u001b[1m\u001b[30m|   \u001b[1m\u001b[30m\u001b[0m",
      "\u001b[1m\u001b[30m|   \u001b[1m\u001b[30m        // Displaying the updated member list\u001b[0m",
      "\u001b[1m\u001b[30m|   \u001b[1m\u001b[30m        System.out.println(\"\\nUpdated Member List:\");\u001b[0m",
      "\u001b[1m\u001b[30m|   \u001b[1m\u001b[30m        system.displayMembers();\u001b[0m",
      "\u001b[1m\u001b[30m|   \u001b[1m\u001b[30m    }\u001b[0m",
      "\u001b[1m\u001b[30m|   \u001b[1m\u001b[30m}\u001b[0m",
      "\u001b[1m\u001b[31mUnresolved dependencies:\u001b[0m",
      "\u001b[1m\u001b[31m   - class MemberManagementSystem\u001b[0m",
      "\u001b[1m\u001b[31m   - class MemberInfo\u001b[0m"
     ]
    }
   ],
   "source": [
    "public class MemberTester {\n",
    "    public static void main(String[] args) {\n",
    "        MemberManagementSystem system = new MemberManagementSystem(); // Assuming there's a class called MemberManagementSystem that contains the addMembers and removeMembers methods\n",
    "\n",
    "        // Adding new members\n",
    "        String[] newMembers = {\"John\", \"Emily\", \"Michael\"};\n",
    "        int gradYear = 2023;\n",
    "        system.addMembers(newMembers, gradYear);\n",
    "\n",
    "        // Displaying the initial member list\n",
    "        System.out.println(\"Initial Member List:\");\n",
    "        system.displayMembers();\n",
    "\n",
    "        // Removing graduated members\n",
    "        int currentYear = 2023;\n",
    "        ArrayList<MemberInfo> graduatedMembers = system.removeMembers(currentYear);\n",
    "\n",
    "        // Displaying the graduated members\n",
    "        System.out.println(\"\\nGraduated Members:\");\n",
    "        for (MemberInfo member : graduatedMembers) {\n",
    "            System.out.println(member.getName());\n",
    "        }\n",
    "\n",
    "        // Displaying the updated member list\n",
    "        System.out.println(\"\\nUpdated Member List:\");\n",
    "        system.displayMembers();\n",
    "    }\n",
    "}\n",
    "\n",
    "MemberTester.main(null);\n"
   ]
  }
 ],
 "metadata": {
  "kernelspec": {
   "display_name": "Java",
   "language": "java",
   "name": "java"
  },
  "language_info": {
   "codemirror_mode": "java",
   "file_extension": ".jshell",
   "mimetype": "text/x-java-source",
   "name": "Java",
   "pygments_lexer": "java",
   "version": "19"
  },
  "orig_nbformat": 4
 },
 "nbformat": 4,
 "nbformat_minor": 2
}
