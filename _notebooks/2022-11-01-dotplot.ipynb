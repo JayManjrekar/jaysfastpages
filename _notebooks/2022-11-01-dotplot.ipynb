{
 "cells": [
  {
   "cell_type": "code",
   "execution_count": 4,
   "metadata": {
    "vscode": {
     "languageId": "java"
    }
   },
   "outputs": [],
   "source": [
    "%%loadFromPOM\n",
    "<dependency>\n",
    "    <groupId>jfree</groupId>\n",
    "    <artifactId>jfreechart</artifactId>\n",
    "    <version>1.0.13</version>\n",
    "</dependency>"
   ]
  },
  {
   "cell_type": "code",
   "execution_count": 10,
   "metadata": {
    "vscode": {
     "languageId": "java"
    }
   },
   "outputs": [],
   "source": [
    "import java.util.*;\n",
    "import java.io.*;\n",
    "import org.jfree.chart.ChartFactory;  \n",
    "import org.jfree.chart.ChartPanel;  \n",
    "import org.jfree.chart.JFreeChart;  \n",
    "import org.jfree.chart.plot.XYPlot;  \n",
    "import org.jfree.data.xy.XYDataset;  \n",
    "import org.jfree.data.xy.XYSeries;  \n",
    "import org.jfree.data.xy.XYSeriesCollection;  \n",
    "import org.jfree.chart.plot.PlotOrientation;\n",
    "import org.jfree.chart.ChartUtilities;\n",
    "\n",
    "double[] data = {1, 1, 1, 2, 2, 3, 4, 5, 6, 6, 6, 6, 7, 7, 8.5};\n",
    "\n",
    "XYSeriesCollection newDataSet = new XYSeriesCollection();\n",
    "\n",
    "XYSeries series2 = new XYSeries(\"Girls\");  \n",
    "\n",
    "//add keys and values\n"
   ]
  }
 ],
 "metadata": {
  "kernelspec": {
   "display_name": "Java",
   "language": "java",
   "name": "java"
  },
  "language_info": {
   "codemirror_mode": "java",
   "file_extension": ".jshell",
   "mimetype": "text/x-java-source",
   "name": "Java",
   "pygments_lexer": "java",
   "version": "19"
  },
  "orig_nbformat": 4
 },
 "nbformat": 4,
 "nbformat_minor": 2
}
