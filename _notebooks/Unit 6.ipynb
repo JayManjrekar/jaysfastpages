{
 "cells": [
  {
   "cell_type": "markdown",
   "metadata": {},
   "source": [
    "# Unit 6"
   ]
  },
  {
   "cell_type": "markdown",
   "metadata": {},
   "source": [
    "Array Creation and Access\n",
    "- Arrays represent groups of related data all of the identical data type.\n",
    "- The size of an array is established when created and cannot be modified.\n",
    "- Arrays can store either primitive data or object reference data.\n",
    "- When an array is created using the keyword new, all of its elements are initialized with a\n",
    "specific value based on the type of elements:\n",
    "- Elements of type int are initialized to 0\n",
    "-  Elements of type double are initialized to 0.0\n",
    "- Elements of type boolean are initialized to false\n",
    "- Elements of a reference type are initialized to the reference value null. No objects\n",
    "are automatically created.\n",
    "- Square brackets ([ ]) are utilized to get to and adjust a component in an Array utilizing a\n",
    "list. The indexed value, for instance array[index], can be utilized anywhere a normal\n",
    "variable can be utilized, for instance to get or assign any values or variables.\n",
    "- The valid index values for an array are 0 through one less than the size of the array.\n",
    "Utilizing a record and index value outside of this range will give you an\n",
    "ArrayIndexOutOfBoundsException.\n",
    "Traversing Arrays\n",
    "- Iteration (loops) can be utilized to get to all the components in an array, traversing\n",
    "through the array.\n",
    "- Traversing an array with an indexed for loop or while loop expects components to be\n",
    "accessed with their indices.\n",
    "public class OffByone"
   ]
  },
  {
   "cell_type": "markdown",
   "metadata": {},
   "source": [
    "### Hack 1"
   ]
  },
  {
   "cell_type": "code",
   "execution_count": null,
   "metadata": {},
   "outputs": [],
   "source": [
    "import java.util.Arrays;\n",
    "int[] arrayOne = {1, 3, 5, 7, 9};\n",
    "for (int i = 0; i<arrayOne.length;i++)\n",
    "{\n",
    "    if (arrayOne[i] % 2 == 0)\n",
    "    {\n",
    "        System.out.println(arrayOne[i] + \" \");\n",
    "    }\n",
    "}"
   ]
  },
  {
   "cell_type": "markdown",
   "metadata": {},
   "source": [
    "### Hack 2"
   ]
  },
  {
   "cell_type": "markdown",
   "metadata": {},
   "source": [
    "\n",
    "Which of the following is FALSE about arrays\n",
    "\n",
    "- A. A java array is an object\n",
    "- B. Length of array can be changed after creation of array\n",
    "- C. Numerical data types of arrays are initialized to 0 to start"
   ]
  },
  {
   "cell_type": "markdown",
   "metadata": {},
   "source": [
    "# The answer is B"
   ]
  },
  {
   "cell_type": "markdown",
   "metadata": {},
   "source": [
    "### APCSA 2021 Question 3\n",
    "A high school club maintains information about its members in a MemberInfo object. A\n",
    "MemberInfo object stores a club member’s name, year of graduation, and whether or not the club\n",
    "member is in good standing. A member who is in good standing has fulfilled all the responsibilities of club\n",
    "membership.\n",
    "* A partial declaration of the MemberInfo class is shown below.\n",
    "\n",
    "    * public class MemberInfo\n",
    "{\n",
    "/** Constructs a MemberInfo object for the club member with name name, graduation year gradYear, and standing hasGoodStanding.\n",
    "*/\n",
    "public MemberInfo(String name, int gradYear, boolean hasGoodStanding)\n",
    "{ /* implementation not shown */ }\n",
    "/** Returns the graduation year of the club member. */\n",
    "public int getGradYear()\n",
    "{ /* implementation not shown */ }\n",
    "/** Returns true if the member is in good standing and false otherwise. */\n",
    "public boolean inGoodStanding()\n",
    "{ /* implementation not shown */ }\n",
    "// There may be instance variables, constructors, and methods that are not shown.\n",
    "}\n",
    "* The ClubMembers class maintains a list of current club members. The declaration of the ClubMembers class is shown below.\n",
    "\n",
    "    * public class ClubMembers\n",
    "{\n",
    "private ArrayList<MemberInfo> memberList;\n",
    "/** Adds new club members to memberList, as described in part (a). Precondition: names is a non-empty array.\n",
    "*/\n",
    "public void addMembers(String[] names, int gradYear)\n",
    "{ /* to be implemented in part (a) */ }\n",
    "/** Removes members who have graduated and returns a list of members who have graduated and are in good standing, as described in part (b).\n",
    "*/\n",
    "public ArrayList<MemberInfo> removeMembers(int year)\n",
    "{ /* to be implemented in part (b) */ }\n",
    "// There may be instance variables, constructors, and methods that are not shown.\n",
    "} "
   ]
  },
  {
   "cell_type": "code",
   "execution_count": null,
   "metadata": {},
   "outputs": [],
   "source": [
    "public void addMembers(String[] names, int gradYear)\n",
    "{\n",
    "    for (String n : names)\n",
    "    {\n",
    "        MemberInfo newM = new MemberInfo (n, gradYear, true);\n",
    "        memberList.add(newM);\n",
    "    }\n",
    "}\n",
    "\n"
   ]
  }
 ],
 "metadata": {
  "kernelspec": {
   "display_name": "Java",
   "language": "java",
   "name": "java"
  },
  "language_info": {
   "name": "java",
   "version": "3.10.6"
  },
  "orig_nbformat": 4,
  "vscode": {
   "interpreter": {
    "hash": "b0fa6594d8f4cbf19f97940f81e996739fb7646882a419484c72d19e05852a7e"
   }
  }
 },
 "nbformat": 4,
 "nbformat_minor": 2
}
