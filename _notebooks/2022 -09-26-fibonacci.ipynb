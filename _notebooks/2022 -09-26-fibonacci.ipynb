{
 "cells": [
  {
   "cell_type": "markdown",
   "metadata": {},
   "source": [
    "# Fibonacci"
   ]
  },
  {
   "cell_type": "code",
   "execution_count": null,
   "metadata": {
    "vscode": {
     "languageId": "java"
    }
   },
   "outputs": [],
   "source": [
    "class Parentfib {\n",
    "    public void print(int count){\n",
    "        int[] fibNumbers = getfib(count);\n",
    "        for(int i =0; i<fibNumbers.length; i++){\n",
    "            System.out.print(fibNumbers[i]);\n",
    "        }\n",
    "    }\n",
    "    abstract int[] getfib(int count);\n",
    "}\n",
    "\n",
    "\n",
    "\n"
   ]
  },
  {
   "cell_type": "markdown",
   "metadata": {},
   "source": [
    "## Recursion Loop"
   ]
  },
  {
   "cell_type": "code",
   "execution_count": 2,
   "metadata": {
    "vscode": {
     "languageId": "java"
    }
   },
   "outputs": [],
   "source": [
    "class Recurfib extends Parentfib{\n",
    "    \n",
    "  public int[] getfib(int count){\n",
    "    num1\n",
    "  }\n",
    "    public static void main(String args[]){  \n",
    "     int count=20;  \n",
    "     System.out.print(n1+\" \"+n2);//printing 0 and 1  \n",
    "     printFibonacci(count-2);//n-2 because 2 numbers are already printed \n",
    "    }\n",
    "   }\n",
    "   "
   ]
  },
  {
   "cell_type": "markdown",
   "metadata": {},
   "source": [
    "## For Loop"
   ]
  },
  {
   "cell_type": "code",
   "execution_count": null,
   "metadata": {
    "vscode": {
     "languageId": "java"
    }
   },
   "outputs": [],
   "source": [
    "class greatlearning{\n",
    "    public static void main(String[] args) {\n",
    "  \n",
    "      int n =17 ,firstTerm = 0, secondTerm = 1;\n",
    "      System.out.println(\"Fibonacci Series till \" + n + \" terms:\");\n",
    "  \n",
    "      for (int i = 1; i <= n; ++i) {\n",
    "        System.out.print(firstTerm + \", \");\n",
    "  \n",
    "        // compute the next term\n",
    "        int nextTerm = firstTerm + secondTerm;\n",
    "        firstTerm = secondTerm;\n",
    "        secondTerm = nextTerm;\n",
    "      }\n",
    "    }\n",
    "  }"
   ]
  },
  {
   "cell_type": "markdown",
   "metadata": {},
   "source": [
    "## While Loop"
   ]
  },
  {
   "cell_type": "code",
   "execution_count": 1,
   "metadata": {
    "vscode": {
     "languageId": "java"
    }
   },
   "outputs": [],
   "source": [
    "class Greatlearning {\n",
    "\n",
    "\t// Function to print N Fibonacci Number\n",
    "\tstatic void Fibonacci(int N)\n",
    "\t{\n",
    "\t\tint num1 = 0, num2 = 1;\n",
    "\n",
    "\t\tint counter = 0;\n",
    "\n",
    "\t\t// Iterate till counter is N\n",
    "\t\twhile (counter < N) {\n",
    "\n",
    "\t\t\t// Print the number\n",
    "\t\t\tSystem.out.print(num1 + \" \");\n",
    "\n",
    "\t\t\t// Swap\n",
    "\t\t\tint num3 = num2 + num1;\n",
    "\t\t\tnum1 = num2;\n",
    "\t\t\tnum2 = num3;\n",
    "\t\t\tcounter = counter + 1;\n",
    "\t\t}\n",
    "\t}\n",
    "\n",
    "\t// Driver Code\n",
    "\tpublic static void main(String args[])\n",
    "\t{\n",
    "\t\t// Given Number N\n",
    "\t\tint N = 18;\n",
    "\n",
    "\t\t// Function Call\n",
    "\t\tFibonacci(N);\n",
    "\t}\n",
    "}"
   ]
  }
 ],
 "metadata": {
  "kernelspec": {
   "display_name": "Java",
   "language": "java",
   "name": "java"
  },
  "language_info": {
   "codemirror_mode": "java",
   "file_extension": ".jshell",
   "mimetype": "text/x-java-source",
   "name": "Java",
   "pygments_lexer": "java",
   "version": "19"
  },
  "orig_nbformat": 4
 },
 "nbformat": 4,
 "nbformat_minor": 2
}
