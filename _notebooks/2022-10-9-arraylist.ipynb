{
 "cells": [
  {
   "cell_type": "code",
   "execution_count": 5,
   "metadata": {
    "vscode": {
     "languageId": "java"
    }
   },
   "outputs": [
    {
     "name": "stdout",
     "output_type": "stream",
     "text": [
      "7\n"
     ]
    }
   ],
   "source": [
    "import java.util.List;\n",
    "import java.util.ArrayList;\n",
    "\n",
    "\n",
    "List<Integer> myArrayList = new ArrayList();\n",
    "int[] myArray = new int[3];\n",
    "\n",
    "myArray[0] = 5;\n",
    "myArray[1] = 7;\n",
    "myArray[2] = 8;\n",
    "myArray[2] = 9;\n",
    "\n",
    "myArrayList.add(5);\n",
    "myArrayList.add(7);\n",
    "myArrayList.add(9);\n",
    "\n",
    "int aCount = myArray.length;\n",
    "int aListCount = myArrayList.size();\n",
    "\n",
    "\n",
    "int secondNum = myArray[1];\n",
    "int secondNumList = myArrayList.get(1);\n",
    "myArrayList.set(2, 9);\n",
    "\n",
    "System.out.println(myArray[1]);\n",
    "\n",
    "\n",
    "\n",
    "\n",
    "\n"
   ]
  },
  {
   "cell_type": "code",
   "execution_count": 10,
   "metadata": {
    "vscode": {
     "languageId": "java"
    }
   },
   "outputs": [
    {
     "name": "stdout",
     "output_type": "stream",
     "text": [
      "[Min, Mode, Median, Mean]\n",
      "Min\n",
      "Median\n",
      "Mean\n"
     ]
    }
   ],
   "source": [
    "import java.util.ArrayList;\n",
    "\n",
    "\n",
    "    ArrayList<String> stats = new ArrayList<String>();\n",
    "    stats.add(\"Min\");\n",
    "    stats.add(\"Mode\");\n",
    "    stats.add(\"Median\");\n",
    "    stats.add(\"Mean\");\n",
    "    System.out.println(stats);\n",
    "\n",
    "    stats.remove(\"Mode\");\n",
    "\n",
    "    for (int i = 0; i < stats.size(); i++) {\n",
    "      System.out.println(stats.get(i));\n",
    "    }\n",
    "  "
   ]
  }
 ],
 "metadata": {
  "kernelspec": {
   "display_name": "Java",
   "language": "java",
   "name": "java"
  },
  "language_info": {
   "codemirror_mode": "java",
   "file_extension": ".jshell",
   "mimetype": "text/x-java-source",
   "name": "Java",
   "pygments_lexer": "java",
   "version": "19"
  },
  "orig_nbformat": 4
 },
 "nbformat": 4,
 "nbformat_minor": 2
}
