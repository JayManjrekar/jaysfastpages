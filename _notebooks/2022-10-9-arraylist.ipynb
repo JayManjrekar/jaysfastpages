{
 "cells": [
  {
   "cell_type": "code",
   "execution_count": 5,
   "metadata": {
    "vscode": {
     "languageId": "java"
    }
   },
   "outputs": [
    {
     "name": "stdout",
     "output_type": "stream",
     "text": [
      "7\n"
     ]
    }
   ],
   "source": [
    "import java.util.List;\n",
    "import java.util.ArrayList;\n",
    "\n",
    "\n",
    "List<Integer> myArrayList = new ArrayList();\n",
    "int[] myArray = new int[3];\n",
    "\n",
    "myArray[0] = 5;\n",
    "myArray[1] = 7;\n",
    "myArray[2] = 8;\n",
    "myArray[2] = 9;\n",
    "\n",
    "myArrayList.add(5);\n",
    "myArrayList.add(7);\n",
    "myArrayList.add(9);\n",
    "\n",
    "int aCount = myArray.length;\n",
    "int aListCount = myArrayList.size();\n",
    "\n",
    "\n",
    "int secondNum = myArray[1];\n",
    "int secondNumList = myArrayList.get(1);\n",
    "myArrayList.set(2, 9);\n",
    "\n",
    "System.out.println(myArray[1]);\n",
    "\n",
    "\n",
    "\n",
    "\n",
    "\n"
   ]
  },
  {
   "cell_type": "code",
   "execution_count": 3,
   "metadata": {
    "vscode": {
     "languageId": "java"
    }
   },
   "outputs": [
    {
     "name": "stdout",
     "output_type": "stream",
     "text": [
      "What data do you want to remove? (Min, Mode, Median, Mean)\n",
      "Median\n",
      "[Min, Mode, Median, Mean]\n",
      "Min\n",
      "Mode\n",
      "Mean\n"
     ]
    }
   ],
   "source": [
    "import java.util.ArrayList;\n",
    "import java.util.Scanner;\n",
    "\n",
    "Scanner scan = new Scanner(System.in);\n",
    "System.out.println(\"What data do you want to remove? (Min, Mode, Median, Mean)\");\n",
    "String dataInput = scan.nextLine();\n",
    "System.out.println(dataInput);\n",
    "\n",
    "\n",
    "    ArrayList<String> stats = new ArrayList<String>();\n",
    "    stats.add(\"Min\");\n",
    "    stats.add(\"Mode\");\n",
    "    stats.add(\"Median\");\n",
    "    stats.add(\"Mean\");\n",
    "    System.out.println(stats);\n",
    "\n",
    "    if(dataInput.equals(\"Min\")){\n",
    "      stats.remove(\"Min\");\n",
    "    }else if(dataInput.equals(\"Mode\")){\n",
    "      stats.remove(\"Mode\");\n",
    "    } else if(dataInput.equals(\"Median\")){\n",
    "      stats.remove(\"Median\");\n",
    "    }else if(dataInput.equals(\"Mean\")){\n",
    "      stats.remove(\"Mean\");\n",
    "    }\n",
    "\n",
    "    for (int i = 0; i < stats.size(); i++) {\n",
    "      System.out.println(stats.get(i));\n",
    "    }\n",
    "  "
   ]
  }
 ],
 "metadata": {
  "kernelspec": {
   "display_name": "Java",
   "language": "java",
   "name": "java"
  },
  "language_info": {
   "codemirror_mode": "java",
   "file_extension": ".jshell",
   "mimetype": "text/x-java-source",
   "name": "Java",
   "pygments_lexer": "java",
   "version": "19"
  },
  "orig_nbformat": 4
 },
 "nbformat": 4,
 "nbformat_minor": 2
}
