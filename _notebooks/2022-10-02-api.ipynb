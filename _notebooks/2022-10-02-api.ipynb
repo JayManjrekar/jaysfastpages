{
 "cells": [
  {
   "cell_type": "markdown",
   "metadata": {},
   "source": [
    "# Rapid API"
   ]
  },
  {
   "cell_type": "code",
   "execution_count": null,
   "metadata": {
    "vscode": {
     "languageId": "java"
    }
   },
   "outputs": [],
   "source": [
    "%maven org.json:json:20220924\n",
    "import java.net.URI;\n",
    "import java.net.http.HttpClient;\n",
    "import java.net.http.HttpRequest;\n",
    "import java.net.http.HttpResponse;\n",
    "import java.util.Scanner;\n",
    "public class Soccer {\n",
    "    public static void main(String[] args) throws IOException, InterruptedException {\n",
    "        HttpRequest request = HttpRequest.newBuilder()\n",
    "\t\t.uri(URI.create(\"https://soccer-transfers.p.rapidapi.com/en\"))\n",
    "\t\t.header(\"X-RapidAPI-Key\", \"39c4bf8c2emsh30b02ab6dc01dd9p13f427jsn690a650cf2ec\")\n",
    "\t\t.header(\"X-RapidAPI-Host\", \"soccer-transfers.p.rapidapi.com\")\n",
    "\t\t.method(\"GET\", HttpRequest.BodyPublishers.noBody())\n",
    "\t\t.build();\n",
    "HttpResponse<String> response = HttpClient.newHttpClient().send(request, HttpResponse.BodyHandlers.ofString());\n",
    "System.out.println(response.body());\n",
    "\n",
    "    }\n",
    "}"
   ]
  },
  {
   "cell_type": "code",
   "execution_count": 3,
   "metadata": {
    "vscode": {
     "languageId": "java"
    }
   },
   "outputs": [
    {
     "name": "stdout",
     "output_type": "stream",
     "text": [
      "[{\"date\":\"16\\/11\\/2022\",\"from\":\"Palmeiras\",\"time\":\"09h12\",\"to\":\"Nottingham Forest\",\"player\":\"Gustavo Scarpa\"},{\"date\":\"12\\/11\\/2023\",\"from\":\"Sheffield United\",\"time\":\"21h32\",\"to\":\"Oldham Athletic\",\"player\":\"Sydie Peck\"},{\"date\":\"12\\/11\\/2023\",\"from\":\"Sheffield United\",\"time\":\"21h31\",\"to\":\"Boreham Wood\",\"player\":\"Kyron Gordon\"},{\"date\":\"12\\/11\\/2023\",\"from\":\"Aston Villa\",\"time\":\"00h35\",\"to\":\"St. Louis City SC\",\"player\":\"Indiana Vassilev\"},{\"date\":\"11\\/11\\/2023\",\"from\":\"Sheffield United\",\"time\":\"12h18\",\"to\":\"Guiseley AFC\",\"player\":\"Callum Hiddlestone\"},{\"date\":\"11\\/11\\/2023\",\"from\":\"Burnley\",\"time\":\"12h12\",\"to\":\"Hyde United\",\"player\":\"Joe McGlynn\"},{\"date\":\"08\\/11\\/2023\",\"from\":\"West Ham\",\"time\":\"02h33\",\"to\":\"Harrow Borough\",\"player\":\"Jacob Knightbridge\"},{\"date\":\"07\\/11\\/2023\",\"from\":\"Southampton\",\"time\":\"13h16\",\"to\":\"AFC Bournemouth\",\"player\":\"Jack Stephens\"},{\"date\":\"07\\/11\\/2023\",\"from\":\"Aston Villa\",\"time\":\"01h31\",\"to\":\"Stratford Town\",\"player\":\"Patrick Zito\"},{\"date\":\"06\\/11\\/2023\",\"from\":\"Crystal Palace\",\"time\":\"15h49\",\"to\":\"Carshalton Athletic\",\"player\":\"Matthew Vigor\"},{\"date\":\"06\\/11\\/2023\",\"from\":\"Leeds United\",\"time\":\"14h43\",\"to\":\"Curzon Ashton\",\"player\":\"Mitch Picksley\"},{\"date\":\"04\\/11\\/2023\",\"from\":\"Aston Villa\",\"time\":\"22h55\",\"to\":\"Needham Market\",\"player\":\"Taylor Clark\"},{\"date\":\"04\\/11\\/2023\",\"from\":\"Burnley\",\"time\":\"19h37\",\"to\":\"Alvechurch\",\"player\":\"Harry Williams\"},{\"date\":\"04\\/11\\/2023\",\"from\":\"West Bromwich\",\"time\":\"19h37\",\"to\":\"Alvechurch\",\"player\":\"Aurio Teixeira\"},{\"date\":\"03\\/11\\/2023\",\"from\":\"Manchester United\",\"time\":\"09h59\",\"to\":\"Sunderland\",\"player\":\"Amad Diallo\"},{\"date\":\"03\\/11\\/2023\",\"from\":\"Rosario Central\",\"time\":\"08h25\",\"to\":\"Brighton & Hove Albion\",\"player\":\"Facundo Buonanotte\"},{\"date\":\"02\\/11\\/2023\",\"from\":\"Brighton & Hove Albion\",\"time\":\"17h58\",\"to\":\"Chelsea\",\"player\":\"Shim Mheuka\"},{\"date\":\"02\\/11\\/2023\",\"from\":\"Arsenal\",\"time\":\"17h34\",\"to\":\"Southampton\",\"player\":\"Maitland-Niles\"},{\"date\":\"02\\/11\\/2023\",\"from\":\"Arsenal\",\"time\":\"17h34\",\"to\":\"Southampton\",\"player\":\"Maitland-Niles\"},{\"date\":\"02\\/11\\/2023\",\"from\":\"Nea Salamis\",\"time\":\"17h14\",\"to\":\"Welling United\",\"player\":\"Jay Simpson\"},{\"date\":\"02\\/11\\/2023\",\"from\":\"West Bromwich\",\"time\":\"02h07\",\"to\":\"Yeovil Town\",\"player\":\"Jamie Andrews\"},{\"date\":\"01\\/11\\/2023\",\"from\":\"West Bromwich\",\"time\":\"16h04\",\"to\":\"Telford United\",\"player\":\"Mo Faal\"},{\"date\":\"31\\/10\\/2023\",\"from\":\"Stuttgart\",\"time\":\"11h40\",\"to\":\"Blackburn Rovers\",\"player\":\"Clinton Mola\"},{\"date\":\"31\\/10\\/2023\",\"from\":\"Brighton & Hove Albion\",\"time\":\"04h20\",\"to\":\"Hartley Wintney\",\"player\":\"Adam Desbois\"},{\"date\":\"23\\/10\\/2023\",\"from\":\"Sheffield United\",\"time\":\"17h19\",\"to\":\"Kidderminster\",\"player\":\"Joseph Starbuck\"},{\"date\":\"18\\/10\\/2023\",\"from\":\"West Ham\",\"time\":\"18h23\",\"to\":\"MK Dons\",\"player\":\"David Martin\"},{\"date\":\"18\\/10\\/2023\",\"from\":\"West Ham\",\"time\":\"18h06\",\"to\":\"Colchester\",\"player\":\"Max Jollife\"},{\"date\":\"18\\/10\\/2023\",\"from\":\"Hayes & Yeading\",\"time\":\"13h39\",\"to\":\"Politehnica Iasi\",\"player\":\"Shayon Harrison\"},{\"date\":\"18\\/10\\/2023\",\"from\":\"Newcastle\",\"time\":\"00h36\",\"to\":\"Ashington AFC\",\"player\":\"Liam Smith\"},{\"date\":\"17\\/10\\/2023\",\"from\":\"Southampton\",\"time\":\"03h34\",\"to\":\"Gosport Borough\",\"player\":\"Tommy-Lee Higgs\"},{\"date\":\"16\\/10\\/2023\",\"from\":\"Watford\",\"time\":\"20h00\",\"to\":\"Oostende\",\"player\":\"Dapo Mebude\"},{\"date\":\"16\\/10\\/2023\",\"from\":\"Newcastle\",\"time\":\"15h03\",\"to\":\"Reading\",\"player\":\"Lui Bradbury\"},{\"date\":\"15\\/10\\/2023\",\"from\":\"Leicester City\",\"time\":\"12h53\",\"to\":\"Blackburn Rovers\",\"player\":\"George Hirst\"},{\"date\":\"14\\/10\\/2023\",\"from\":\"Liverpool\",\"time\":\"09h26\",\"to\":\"QPR\",\"player\":\"Elijah Dixon-Bonner\"},{\"date\":\"12\\/10\\/2023\",\"from\":\"Burnley\",\"time\":\"01h45\",\"to\":\"Lancaster City\",\"player\":\"Sam Waller\"},{\"date\":\"10\\/10\\/2023\",\"from\":\"Manchester United\",\"time\":\"18h40\",\"to\":\"Sunderland\",\"player\":\"Amad Diallo\"},{\"date\":\"10\\/10\\/2023\",\"from\":\"Sheffield United\",\"time\":\"17h28\",\"to\":\"Bradford Park Avenue\",\"player\":\"Thomas Angell\"},{\"date\":\"10\\/10\\/2023\",\"from\":\"Dnipro-1\",\"time\":\"02h19\",\"to\":\"Brentford\",\"player\":\"Yehor Yarmoliuk\"},{\"date\":\"09\\/10\\/2023\",\"from\":\"Chelsea\",\"time\":\"15h26\",\"to\":\"Stoke City\",\"player\":\"Josh Tobin\"},{\"date\":\"09\\/10\\/2023\",\"from\":\"Reading\",\"time\":\"10h51\",\"to\":\"RB Leipzig\",\"player\":\"Orjan Nyland\"},{\"date\":\"07\\/10\\/2023\",\"from\":\"West Bromwich\",\"time\":\"18h26\",\"to\":\"Derby County\",\"player\":\"Narel Phillips\"},{\"date\":\"05\\/10\\/2023\",\"from\":\"Aston Villa\",\"time\":\"00h59\",\"to\":\"Chesterfield\",\"player\":\"Jack Clarke\"},{\"date\":\"05\\/10\\/2023\",\"from\":\"Brighton & Hove Albion\",\"time\":\"00h45\",\"to\":\"Southend United\",\"player\":\"Kacper Lopata\"},{\"date\":\"03\\/10\\/2023\",\"from\":\"Leicester City\",\"time\":\"17h56\",\"to\":\"Manchester United\",\"player\":\"Safia Middleton-Patel\"},{\"date\":\"02\\/10\\/2023\",\"from\":\"Reading\",\"time\":\"17h50\",\"to\":\"Puskás Akadémia FC\",\"player\":\"Brandon Ormonde-Ottewill\"},{\"date\":\"01\\/10\\/2023\",\"from\":\"Wolverhampton\",\"time\":\"14h57\",\"to\":\"Grimsby Town\",\"player\":\"James Pardington\"},{\"date\":\"01\\/10\\/2023\",\"from\":\"Stuttgart\",\"time\":\"12h03\",\"to\":\"Blackburn Rovers\",\"player\":\"Clinton Mola\"},{\"date\":\"01\\/10\\/2023\",\"from\":\"QPR\",\"time\":\"09h18\",\"to\":\"Aalborg BK\",\"player\":\"Marco Ramkilde\"},{\"date\":\"30\\/09\\/2023\",\"from\":\"Central Coast\",\"time\":\"09h46\",\"to\":\"Newcastle\",\"player\":\"Garang Kuol\"},{\"date\":\"28\\/09\\/2023\",\"from\":\"Grasshoppers\",\"time\":\"23h37\",\"to\":\"Wolverhampton\",\"player\":\"Léo Bonatini\"},{\"date\":\"28\\/09\\/2023\",\"from\":\"West Ham\",\"time\":\"11h10\",\"to\":\"OFI\",\"player\":\"Mésaque Djú\"},{\"date\":\"27\\/09\\/2023\",\"from\":\"Crystal Palace\",\"time\":\"17h36\",\"to\":\"Bowers & Pitsea\",\"player\":\"Dylan Thistleton\"},{\"date\":\"26\\/09\\/2023\",\"from\":\"Burnley\",\"time\":\"17h13\",\"to\":\"Bamber Bridge\",\"player\":\"Kade Ratchford\"},{\"date\":\"26\\/09\\/2023\",\"from\":\"Burnley\",\"time\":\"16h56\",\"to\":\"United of Manchester\",\"player\":\"Finlay Armstrong\"},{\"date\":\"26\\/09\\/2023\",\"from\":\"Southampton\",\"time\":\"13h46\",\"to\":\"AFC Bournemouth\",\"player\":\"Jack Stephens\"},{\"date\":\"26\\/09\\/2023\",\"from\":\"Leicester City\",\"time\":\"13h43\",\"to\":\"Peterborough United\",\"player\":\"Johnson Gyamfi\"},{\"date\":\"26\\/09\\/2023\",\"from\":\"Fulham\",\"time\":\"13h23\",\"to\":\"Oxford City\",\"player\":\"Oliver Sanderson\"},{\"date\":\"25\\/09\\/2023\",\"from\":\"Everton\",\"time\":\"22h20\",\"to\":\"Al Wahda\",\"player\":\"Allan\"},{\"date\":\"25\\/09\\/2023\",\"from\":\"Burnley\",\"time\":\"17h26\",\"to\":\"Flint Town United\",\"player\":\"Harry Allen\"},{\"date\":\"25\\/09\\/2023\",\"from\":\"Waterford\",\"time\":\"17h07\",\"to\":\"Cheshunt\",\"player\":\"Anthony Wordsworth\"},{\"date\":\"24\\/09\\/2023\",\"from\":\"Sheffield United\",\"time\":\"21h57\",\"to\":\"Boreham Wood\",\"player\":\"George Broadbent\"},{\"date\":\"23\\/09\\/2023\",\"from\":\"Paris SG\",\"time\":\"18h48\",\"to\":\"Sunderland\",\"player\":\"Édouard Michut\"},{\"date\":\"23\\/09\\/2023\",\"from\":\"HK Kópavogs\",\"time\":\"11h24\",\"to\":\"Herne Bay\",\"player\":\"Hassan Jalloh\"},{\"date\":\"22\\/09\\/2023\",\"from\":\"West Bromwich\",\"time\":\"18h02\",\"to\":\"Kingstonian\",\"player\":\"Mac Chisholm\"},{\"date\":\"22\\/09\\/2023\",\"from\":\"APOEL\",\"time\":\"17h54\",\"to\":\"Enfield Town\",\"player\":\"Marcus Wyllie\"},{\"date\":\"22\\/09\\/2023\",\"from\":\"Leeds United\",\"time\":\"16h58\",\"to\":\"Whitby Town\",\"player\":\"George Scaife\"},{\"date\":\"22\\/09\\/2023\",\"from\":\"Leicester City\",\"time\":\"13h32\",\"to\":\"Belper Town\",\"player\":\"Bailey Aisthorpe\"},{\"date\":\"22\\/09\\/2023\",\"from\":\"Keflavík\",\"time\":\"13h17\",\"to\":\"Bamber Bridge\",\"player\":\"Marley Blair\"},{\"date\":\"21\\/09\\/2023\",\"from\":\"Newcastle\",\"time\":\"18h22\",\"to\":\"Hamilton\",\"player\":\"Reagan Thomson\"},{\"date\":\"21\\/09\\/2023\",\"from\":\"Everton\",\"time\":\"17h24\",\"to\":\"Lancaster City\",\"player\":\"Jamie Mellen\"},{\"date\":\"21\\/09\\/2023\",\"from\":\"Burnley\",\"time\":\"16h23\",\"to\":\"Lancaster City\",\"player\":\"Calen Gallagher-Allison\"},{\"date\":\"21\\/09\\/2023\",\"from\":\"City of Liverpool\",\"time\":\"15h35\",\"to\":\"Stalybridge Celtic\",\"player\":\"Tinashe Chakwana\"},{\"date\":\"21\\/09\\/2023\",\"from\":\"Brighton & Hove Albion\",\"time\":\"14h45\",\"to\":\"PSV\",\"player\":\"Inessa Kaagman\"}]\n"
     ]
    }
   ],
   "source": [
    "Soccer.main(null);"
   ]
  }
 ],
 "metadata": {
  "kernelspec": {
   "display_name": "Java",
   "language": "java",
   "name": "java"
  },
  "language_info": {
   "codemirror_mode": "java",
   "file_extension": ".jshell",
   "mimetype": "text/x-java-source",
   "name": "Java",
   "pygments_lexer": "java",
   "version": "19"
  },
  "orig_nbformat": 4
 },
 "nbformat": 4,
 "nbformat_minor": 2
}
