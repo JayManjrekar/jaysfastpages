{
 "cells": [
  {
   "cell_type": "markdown",
   "metadata": {},
   "source": [
    "# Rapid API"
   ]
  },
  {
   "cell_type": "code",
   "execution_count": 1,
   "metadata": {},
   "outputs": [],
   "source": [
    "%maven org.json:json:20220924\n",
    "import java.net.URI;\n",
    "import java.net.http.HttpClient;\n",
    "import java.net.http.HttpRequest;\n",
    "import java.net.http.HttpResponse;\n",
    "import java.util.Scanner;\n",
    "public class Soccer {\n",
    "    public static void main(String[] args) throws IOException, InterruptedException {\n",
    "        HttpRequest request = HttpRequest.newBuilder()\n",
    "\t\t.uri(URI.create(\"https://soccer-transfers.p.rapidapi.com/en\"))\n",
    "\t\t.header(\"X-RapidAPI-Key\", \"39c4bf8c2emsh30b02ab6dc01dd9p13f427jsn690a650cf2ec\")\n",
    "\t\t.header(\"X-RapidAPI-Host\", \"soccer-transfers.p.rapidapi.com\")\n",
    "\t\t.method(\"GET\", HttpRequest.BodyPublishers.noBody())\n",
    "\t\t.build();\n",
    "HttpResponse<String> response = HttpClient.newHttpClient().send(request, HttpResponse.BodyHandlers.ofString());\n",
    "System.out.println(response.body());\n",
    "\n",
    "    }\n",
    "}"
   ]
  },
  {
   "cell_type": "code",
   "execution_count": 2,
   "metadata": {},
   "outputs": [
    {
     "name": "stdout",
     "output_type": "stream",
     "text": [
      "[{\"date\":\"02\\/10\\/2023\",\"from\":\"Reading\",\"time\":\"17h50\",\"to\":\"Puskás Akadémia FC\",\"player\":\"Brandon Ormonde-Ottewill\"},{\"date\":\"01\\/10\\/2023\",\"from\":\"Wolverhampton\",\"time\":\"14h57\",\"to\":\"Grimsby Town\",\"player\":\"James Pardington\"},{\"date\":\"01\\/10\\/2023\",\"from\":\"Stuttgart\",\"time\":\"12h03\",\"to\":\"Blackburn Rovers\",\"player\":\"Clinton Mola\"},{\"date\":\"01\\/10\\/2023\",\"from\":\"QPR\",\"time\":\"09h18\",\"to\":\"Aalborg BK\",\"player\":\"Marco Ramkilde\"},{\"date\":\"30\\/09\\/2023\",\"from\":\"Central Coast\",\"time\":\"09h46\",\"to\":\"Newcastle\",\"player\":\"Garang Kuol\"},{\"date\":\"28\\/09\\/2023\",\"from\":\"Grasshoppers\",\"time\":\"23h37\",\"to\":\"Wolverhampton\",\"player\":\"Léo Bonatini\"},{\"date\":\"28\\/09\\/2023\",\"from\":\"West Ham\",\"time\":\"11h10\",\"to\":\"OFI\",\"player\":\"Mésaque Djú\"},{\"date\":\"27\\/09\\/2023\",\"from\":\"Crystal Palace\",\"time\":\"17h36\",\"to\":\"Bowers & Pitsea\",\"player\":\"Dylan Thistleton\"},{\"date\":\"26\\/09\\/2023\",\"from\":\"Burnley\",\"time\":\"17h13\",\"to\":\"Bamber Bridge\",\"player\":\"Kade Ratchford\"},{\"date\":\"26\\/09\\/2023\",\"from\":\"Burnley\",\"time\":\"16h56\",\"to\":\"United of Manchester\",\"player\":\"Finlay Armstrong\"},{\"date\":\"26\\/09\\/2023\",\"from\":\"Southampton\",\"time\":\"13h46\",\"to\":\"AFC Bournemouth\",\"player\":\"Jack Stephens\"},{\"date\":\"26\\/09\\/2023\",\"from\":\"Leicester City\",\"time\":\"13h43\",\"to\":\"Peterborough United\",\"player\":\"Johnson Gyamfi\"},{\"date\":\"26\\/09\\/2023\",\"from\":\"Fulham\",\"time\":\"13h23\",\"to\":\"Oxford City\",\"player\":\"Oliver Sanderson\"},{\"date\":\"25\\/09\\/2023\",\"from\":\"Everton\",\"time\":\"22h20\",\"to\":\"Al Wahda\",\"player\":\"Allan\"},{\"date\":\"25\\/09\\/2023\",\"from\":\"Burnley\",\"time\":\"17h26\",\"to\":\"Flint Town United\",\"player\":\"Harry Allen\"},{\"date\":\"25\\/09\\/2023\",\"from\":\"Waterford\",\"time\":\"17h07\",\"to\":\"Cheshunt\",\"player\":\"Anthony Wordsworth\"},{\"date\":\"24\\/09\\/2023\",\"from\":\"Sheffield United\",\"time\":\"21h57\",\"to\":\"Boreham Wood\",\"player\":\"George Broadbent\"},{\"date\":\"23\\/09\\/2023\",\"from\":\"Paris SG\",\"time\":\"18h48\",\"to\":\"Sunderland\",\"player\":\"Édouard Michut\"},{\"date\":\"23\\/09\\/2023\",\"from\":\"HK Kópavogs\",\"time\":\"11h24\",\"to\":\"Herne Bay\",\"player\":\"Hassan Jalloh\"},{\"date\":\"22\\/09\\/2023\",\"from\":\"West Bromwich\",\"time\":\"18h02\",\"to\":\"Kingstonian\",\"player\":\"Mac Chisholm\"},{\"date\":\"22\\/09\\/2023\",\"from\":\"APOEL\",\"time\":\"17h54\",\"to\":\"Enfield Town\",\"player\":\"Marcus Wyllie\"},{\"date\":\"22\\/09\\/2023\",\"from\":\"Leeds United\",\"time\":\"16h58\",\"to\":\"Whitby Town\",\"player\":\"George Scaife\"},{\"date\":\"22\\/09\\/2023\",\"from\":\"Leicester City\",\"time\":\"13h32\",\"to\":\"Belper Town\",\"player\":\"Bailey Aisthorpe\"},{\"date\":\"22\\/09\\/2023\",\"from\":\"Keflavík\",\"time\":\"13h17\",\"to\":\"Bamber Bridge\",\"player\":\"Marley Blair\"},{\"date\":\"21\\/09\\/2023\",\"from\":\"Newcastle\",\"time\":\"18h22\",\"to\":\"Hamilton\",\"player\":\"Reagan Thomson\"},{\"date\":\"21\\/09\\/2023\",\"from\":\"Everton\",\"time\":\"17h24\",\"to\":\"Lancaster City\",\"player\":\"Jamie Mellen\"},{\"date\":\"21\\/09\\/2023\",\"from\":\"Burnley\",\"time\":\"16h23\",\"to\":\"Lancaster City\",\"player\":\"Calen Gallagher-Allison\"},{\"date\":\"21\\/09\\/2023\",\"from\":\"Hornchurch\",\"time\":\"16h18\",\"to\":\"Hamilton\",\"player\":\"Ellis Brown\"},{\"date\":\"21\\/09\\/2023\",\"from\":\"Hamilton\",\"time\":\"16h18\",\"to\":\"Hornchurch\",\"player\":\"Ellis Brown\"},{\"date\":\"21\\/09\\/2023\",\"from\":\"Burnley\",\"time\":\"15h35\",\"to\":\"Stalybridge Celtic\",\"player\":\"Tinashe Chakwana\"},{\"date\":\"21\\/09\\/2023\",\"from\":\"Brighton & Hove Albion\",\"time\":\"14h45\",\"to\":\"PSV\",\"player\":\"Inessa Kaagman\"},{\"date\":\"20\\/09\\/2023\",\"from\":\"Wolverhampton\",\"time\":\"21h08\",\"to\":\"Bolton Wanderers\",\"player\":\"Conor Carty\"},{\"date\":\"20\\/09\\/2023\",\"from\":\"Manchester United\",\"time\":\"21h08\",\"to\":\"Bolton Wanderers\",\"player\":\"Connor Stanley\"},{\"date\":\"20\\/09\\/2023\",\"from\":\"Leicester City\",\"time\":\"18h46\",\"to\":\"Barnsley\",\"player\":\"Jack Butterfill\"},{\"date\":\"20\\/09\\/2023\",\"from\":\"Fulham\",\"time\":\"18h46\",\"to\":\"Barnsley\",\"player\":\"Ziyad Larkèche\"},{\"date\":\"20\\/09\\/2023\",\"from\":\"Chelsea\",\"time\":\"16h29\",\"to\":\"Southampton\",\"player\":\"Tyler Dibling\"},{\"date\":\"20\\/09\\/2023\",\"from\":\"Dundalk\",\"time\":\"13h33\",\"to\":\"Brentford\",\"player\":\"Val Adedokun\"},{\"date\":\"20\\/09\\/2023\",\"from\":\"Chelsea\",\"time\":\"13h24\",\"to\":\"Derby County\",\"player\":\"Joe Haigh\"},{\"date\":\"20\\/09\\/2023\",\"from\":\"Brighton & Hove Albion\",\"time\":\"13h24\",\"to\":\"Derby County\",\"player\":\"Leigh Kavanagh\"},{\"date\":\"19\\/09\\/2023\",\"from\":\"Newcastle\",\"time\":\"11h43\",\"to\":\"TNS\",\"player\":\"Adam Wilson\"},{\"date\":\"19\\/09\\/2023\",\"from\":\"Liverpool\",\"time\":\"11h42\",\"to\":\"Caernarfon Town\",\"player\":\"Fidel O´Rourke\"},{\"date\":\"18\\/09\\/2023\",\"from\":\"Burton Albion\",\"time\":\"17h08\",\"to\":\"Motherwell\",\"player\":\"Louis Moult\"},{\"date\":\"18\\/09\\/2023\",\"from\":\"Rangers\",\"time\":\"15h06\",\"to\":\"Leicester City\",\"player\":\"Demi Vance\"},{\"date\":\"17\\/09\\/2023\",\"from\":\"Juventus\",\"time\":\"17h22\",\"to\":\"Liverpool\",\"player\":\"Arthur\"},{\"date\":\"17\\/09\\/2023\",\"from\":\"Manchester City\",\"time\":\"16h25\",\"to\":\"Everton\",\"player\":\"Jessica Park\"},{\"date\":\"17\\/09\\/2023\",\"from\":\"Celtic\",\"time\":\"12h06\",\"to\":\"Leeds United\",\"player\":\"Rory Mahady\"},{\"date\":\"16\\/09\\/2023\",\"from\":\"Stoke City\",\"time\":\"09h56\",\"to\":\"Aris\",\"player\":\"Peter Etebo\"},{\"date\":\"16\\/09\\/2023\",\"from\":\"Blackburn Rovers\",\"time\":\"02h50\",\"to\":\"Dundee United\",\"player\":\"Lauren Perry\"},{\"date\":\"15\\/09\\/2023\",\"from\":\"West Bromwich\",\"time\":\"16h32\",\"to\":\"Reading\",\"player\":\"Andy Carroll\"},{\"date\":\"15\\/09\\/2023\",\"from\":\"Leicester City\",\"time\":\"15h14\",\"to\":\"Notts County\",\"player\":\"Brad Young\"},{\"date\":\"14\\/09\\/2023\",\"from\":\"Wolverhampton\",\"time\":\"19h49\",\"to\":\"PSV\",\"player\":\"Ki-Jana Hoever\"},{\"date\":\"14\\/09\\/2023\",\"from\":\"Leicester City\",\"time\":\"12h46\",\"to\":\"United of Manchester\",\"player\":\"Will Russ\"},{\"date\":\"14\\/09\\/2023\",\"from\":\"Burnley\",\"time\":\"02h08\",\"to\":\"Oldham Athletic\",\"player\":\"Joe McGlynn\"},{\"date\":\"13\\/09\\/2023\",\"from\":\"Metz\",\"time\":\"17h23\",\"to\":\"Reading\",\"player\":\"Amadou Mbengue\"},{\"date\":\"13\\/09\\/2023\",\"from\":\"Burnley\",\"time\":\"15h09\",\"to\":\"West Bromwich\",\"player\":\"Erik Pieters\"},{\"date\":\"13\\/09\\/2023\",\"from\":\"Leicester City\",\"time\":\"11h19\",\"to\":\"Everton\",\"player\":\"Eldin Jakupovic\"},{\"date\":\"13\\/09\\/2023\",\"from\":\"Crystal Palace\",\"time\":\"02h14\",\"to\":\"STK Samorin\",\"player\":\"Kelvin Agho\"},{\"date\":\"13\\/09\\/2023\",\"from\":\"Celtic\",\"time\":\"02h01\",\"to\":\"West Bromwich\",\"player\":\"Tom Rogic\"},{\"date\":\"12\\/09\\/2023\",\"from\":\"QPR\",\"time\":\"19h49\",\"to\":\"Bordeaux\",\"player\":\"Yoann Barbet\"},{\"date\":\"12\\/09\\/2023\",\"from\":\"Wolverhampton\",\"time\":\"19h13\",\"to\":\"Bradford City\",\"player\":\"Joe O´Shaughnessy\"},{\"date\":\"12\\/09\\/2023\",\"from\":\"Leicester City\",\"time\":\"18h20\",\"to\":\"Northampton Town\",\"player\":\"Josh Eppiah\"},{\"date\":\"12\\/09\\/2023\",\"from\":\"West Bromwich\",\"time\":\"16h38\",\"to\":\"Notts County\",\"player\":\"Quévin Castro\"},{\"date\":\"11\\/09\\/2023\",\"from\":\"Manchester City\",\"time\":\"21h43\",\"to\":\"Lommel SK\",\"player\":\"Yeboah Amankwah\"},{\"date\":\"11\\/09\\/2023\",\"from\":\"Fulham\",\"time\":\"14h24\",\"to\":\"Charlton Athletic\",\"player\":\"Nas Bakrin\"},{\"date\":\"10\\/09\\/2023\",\"from\":\"Fulham\",\"time\":\"21h45\",\"to\":\"Volos NFC\",\"player\":\"Anthony Knockaert\"},{\"date\":\"10\\/09\\/2023\",\"from\":\"Manchester United\",\"time\":\"17h46\",\"to\":\"Sparta Praha\",\"player\":\"Matej Kovár\"},{\"date\":\"10\\/09\\/2023\",\"from\":\"Brighton & Hove Albion\",\"time\":\"01h33\",\"to\":\"Standard Liège\",\"player\":\"Steven Alzate\"},{\"date\":\"10\\/09\\/2023\",\"from\":\"Fulham\",\"time\":\"01h20\",\"to\":\"Standard Liège\",\"player\":\"Marlon Fossey\"},{\"date\":\"09\\/09\\/2023\",\"from\":\"West Ham\",\"time\":\"12h10\",\"to\":\"Birmingham City\",\"player\":\"Emmanuel Longelo\"},{\"date\":\"09\\/09\\/2023\",\"from\":\"Liverpool\",\"time\":\"00h00\",\"to\":\"Newcastle\",\"player\":\"Loris Karius\"},{\"date\":\"08\\/09\\/2023\",\"from\":\"Southampton\",\"time\":\"15h05\",\"to\":\"Besiktas\",\"player\":\"Nathan Redmond\"},{\"date\":\"08\\/09\\/2023\",\"from\":\"Norwich City\",\"time\":\"10h45\",\"to\":\"Galatasaray\",\"player\":\"Milot Rashica\"},{\"date\":\"08\\/09\\/2023\",\"from\":\"Fulham\",\"time\":\"09h28\",\"to\":\"Alanyaspor\",\"player\":\"Ivan Cavaleiro\"},{\"date\":\"08\\/09\\/2023\",\"from\":\"Manchester United\",\"time\":\"01h18\",\"to\":\"Galatasaray\",\"player\":\"Juan Mata\"},{\"date\":\"07\\/09\\/2023\",\"from\":\"Villarreal\",\"time\":\"20h09\",\"to\":\"Nottingham Forest\",\"player\":\"Sèrge Aurier\"},{\"date\":\"06\\/09\\/2023\",\"from\":\"Leicester City\",\"time\":\"16h58\",\"to\":\"Feyenoord\",\"player\":\"Esmee de Graaf\"},{\"date\":\"06\\/09\\/2023\",\"from\":\"BK Hacken\",\"time\":\"15h26\",\"to\":\"Reading\",\"player\":\"Jacqueline Burns\"},{\"date\":\"05\\/09\\/2023\",\"from\":\"Sheffield United\",\"time\":\"18h16\",\"to\":\"Scarborough Athletic\",\"player\":\"Hassan Ayari\"},{\"date\":\"05\\/09\\/2023\",\"from\":\"Vitória SC\",\"time\":\"16h00\",\"to\":\"Walsall\",\"player\":\"Jacob Maddox\"},{\"date\":\"05\\/09\\/2023\",\"from\":\"Arsenal\",\"time\":\"15h05\",\"to\":\"Bromley FC\",\"player\":\"Tom Smith\"},{\"date\":\"04\\/09\\/2023\",\"from\":\"Southampton\",\"time\":\"19h22\",\"to\":\"Woking\",\"player\":\"Jake Vokins\"},{\"date\":\"03\\/09\\/2023\",\"from\":\"Aston Villa\",\"time\":\"22h26\",\"to\":\"Barnet\",\"player\":\"Dominic Revan\"},{\"date\":\"03\\/09\\/2023\",\"from\":\"Arsenal\",\"time\":\"22h25\",\"to\":\"Chesterfield\",\"player\":\"Tim Akinola\"},{\"date\":\"03\\/09\\/2023\",\"from\":\"Aston Villa\",\"time\":\"15h55\",\"to\":\"Bradford City\",\"player\":\"Tyreik Wright\"},{\"date\":\"03\\/09\\/2023\",\"from\":\"Sheffield United\",\"time\":\"15h09\",\"to\":\"Derby County\",\"player\":\"Will Osula\"},{\"date\":\"03\\/09\\/2023\",\"from\":\"Aston Villa\",\"time\":\"14h59\",\"to\":\"Crawley Town\",\"player\":\"Caleb Chukwuemeka\"}]\n"
     ]
    }
   ],
   "source": [
    "Soccer.main(null);"
   ]
  }
 ],
 "metadata": {
  "kernelspec": {
   "display_name": "Java",
   "language": "java",
   "name": "java"
  },
  "language_info": {
   "codemirror_mode": "java",
   "file_extension": ".jshell",
   "mimetype": "text/x-java-source",
   "name": "java",
   "pygments_lexer": "java",
   "version": "19"
  },
  "orig_nbformat": 4
 },
 "nbformat": 4,
 "nbformat_minor": 2
}
