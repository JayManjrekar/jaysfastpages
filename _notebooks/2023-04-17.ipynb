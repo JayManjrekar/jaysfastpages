{
 "cells": [
  {
   "cell_type": "code",
   "execution_count": null,
   "metadata": {
    "vscode": {
     "languageId": "java"
    }
   },
   "outputs": [],
   "source": [
    "public void addMembers(String [] names, int gradYear){\n",
    "   for(int i = 0; names.length; i++){\n",
    "    MemberInfo memberobj = new MemberInfo(names[i],gradYear,true);\n",
    "    MemberList.add(memberobj);\n",
    "   }\n",
    "}"
   ]
  },
  {
   "cell_type": "code",
   "execution_count": 1,
   "metadata": {
    "vscode": {
     "languageId": "java"
    }
   },
   "outputs": [
    {
     "ename": "IncompleteSourceException",
     "evalue": "public ArrayList<MemberInfo> removeMembers(int year)",
     "output_type": "error",
     "traceback": [
      "\u001b[1m\u001b[31mIncomplete input:\u001b[0m",
      "\u001b[1m\u001b[30m|   \u001b[1m\u001b[30mpublic ArrayList<MemberInfo> removeMembers(int year)\u001b[0m"
     ]
    }
   ],
   "source": [
    "public ArrayList<MemberInfo> removeMembers(int year) {\n",
    "    private ArrayList<MemberInfo> newArryObj;\n",
    "\n",
    "    for(int i = 0; i<MemberList.size; i++){\n",
    "        if MemberList[i].getGradYear() <= year{\n",
    "            if MemberList[i].inGoodStanding() == true{\n",
    "                newArryObj.add(MemberList[i]);\n",
    "            }\n",
    "            MemberList.remove(i);\n",
    "\n",
    "        }\n",
    "    }\n",
    "    return newArryObj;\n",
    "}\n",
    "\n"
   ]
  },
  {
   "cell_type": "markdown",
   "metadata": {},
   "source": [
    "## Question 2"
   ]
  },
  {
   "cell_type": "code",
   "execution_count": null,
   "metadata": {
    "vscode": {
     "languageId": "java"
    }
   },
   "outputs": [],
   "source": [
    "public boolean addRepair(int m, int b){\n",
    "    for(int i = 0; i<schedule.length; i++){\n",
    "        if schedule[i].getMechanicNum() == m\n",
    "    }\n",
    "}"
   ]
  }
 ],
 "metadata": {
  "kernelspec": {
   "display_name": "Java",
   "language": "java",
   "name": "java"
  },
  "language_info": {
   "codemirror_mode": "java",
   "file_extension": ".jshell",
   "mimetype": "text/x-java-source",
   "name": "Java",
   "pygments_lexer": "java",
   "version": "19"
  },
  "orig_nbformat": 4
 },
 "nbformat": 4,
 "nbformat_minor": 2
}
