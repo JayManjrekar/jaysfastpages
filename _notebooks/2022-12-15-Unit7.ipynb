{
 "cells": [
  {
   "cell_type": "markdown",
   "metadata": {},
   "source": [
    "## 2. This question involves reasoning about pairs of words that are represented by the following"
   ]
  },
  {
   "cell_type": "code",
   "execution_count": null,
   "metadata": {},
   "outputs": [],
   "source": [
    "public class WordPair\n",
    "\n",
    "{\n",
    "\n",
    "/** Constructs a WordPair object. */\n",
    "\n",
    "public WordPair(String first, String second)\n",
    "\n",
    "{ /* implementation not shown */ }\n",
    "\n",
    "/** Returns the first string of this WordPair object. */\n",
    "\n",
    "public String getFirst()\n",
    "\n",
    "{ /* implementation not shown */ }\n",
    "\n",
    "/** Returns the second string of this WordPair object. */\n",
    "\n",
    "public String getSecond()\n",
    "\n",
    "{ /* implementation not shown */ }\n",
    "\n",
    "}"
   ]
  },
  {
   "cell_type": "markdown",
   "metadata": {},
   "source": [
    "## You will implement the constructor and another method for the following WordPairList class."
   ]
  },
  {
   "cell_type": "code",
   "execution_count": null,
   "metadata": {},
   "outputs": [],
   "source": [
    "public class WordPairList\n",
    "\n",
    "{\n",
    "\n",
    "/** The list of word pairs, initialized by the constructor. */\n",
    "\n",
    "private ArrayList allPairs;\n",
    "\n",
    "/** Constructs a WordPairList object as described in part (a).\n",
    "\n",
    "Precondition: words.length >= 2\n",
    "\n",
    "*/\n",
    "\n",
    "public WordPairList(String[] words)\n",
    "\n",
    "{ /* to be implemented in part (a) */ }\n",
    "\n",
    "/** Returns the number of matches as described in part (b).\n",
    "\n",
    "*/\n",
    "\n",
    "public int numMatches()\n",
    "\n",
    "{ /* to be implemented in part (b) */ }\n",
    "\n",
    "}"
   ]
  },
  {
   "cell_type": "markdown",
   "metadata": {},
   "source": [
    "## Complete the WordPairList constructor below"
   ]
  },
  {
   "cell_type": "code",
   "execution_count": null,
   "metadata": {},
   "outputs": [],
   "source": [
    "public class WordPairList\n",
    "{ \n",
    "  public WordPairList(String[] words)\n",
    "    \n",
    "{\n",
    "  allPairs = new ArrayList<WordPair>();\n",
    "\n",
    "  for(int i = 0; i < words.length; i++)\n",
    "    for(int j = i + 1; j < words.length; j++)\n",
    "      allPairs.add(new WordPair(words[i], words[j]));\n",
    "}\n",
    "\n",
    "}"
   ]
  },
  {
   "cell_type": "markdown",
   "metadata": {},
   "source": [
    "## Complete method numMatches below.\n"
   ]
  },
  {
   "cell_type": "code",
   "execution_count": null,
   "metadata": {},
   "outputs": [],
   "source": [
    "public int numMatches()\n",
    "{\n",
    "  int matches = 0;\n",
    "\n",
    "  for(WordPair wp : allPairs)\n",
    "    if(wp.getFirst().equals(wp.getSecond()))\n",
    "      matches++;\n",
    "\n",
    "  return matches;\n",
    "}"
   ]
  }
 ],
 "metadata": {
  "kernelspec": {
   "display_name": "Java",
   "language": "java",
   "name": "java"
  },
  "language_info": {
   "name": "java"
  },
  "orig_nbformat": 4
 },
 "nbformat": 4,
 "nbformat_minor": 2
}
