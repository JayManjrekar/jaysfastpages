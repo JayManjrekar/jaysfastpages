{
 "cells": [
  {
   "cell_type": "markdown",
   "metadata": {},
   "source": [
    "# Unit 4"
   ]
  },
  {
   "cell_type": "markdown",
   "metadata": {},
   "source": [
    "while Loops and for Loops\n",
    "- for loop vs. while loop\n",
    "- for loops repeat for a range of values\n",
    "- while loops repeat when a condition is true/met\n",
    "- for loops have a start value for the loop variables\n",
    "- for loop can be best when you know how many times to repeat the code\n",
    "- while loops can be best when you don’t know how many times to repeat the code\n",
    "- Similarities between for loops and while loops\n",
    "- Repeats code\n",
    "-  Loop stops once the condition is false\n",
    "● Example of a while loop\n",
    "public class Test\n",
    "{\n",
    " public static void main(String[] args)\n",
    " {\n",
    " int x = 10;\n",
    " while (x > 0)\n",
    " {\n",
    " System.out.println(x);\n",
    " x = x - 2;\n",
    " }\n",
    " }\n",
    "}\n",
    "while Loops and for Loops (continued)\n",
    "● Example of a for loop"
   ]
  },
  {
   "cell_type": "code",
   "execution_count": null,
   "metadata": {},
   "outputs": [],
   "source": [
    "// import required classes and package, if any    \n",
    "import java.util.Scanner;   \n",
    "   \n",
    "// create class CaesarCipherExample for encryption and decryption    \n",
    "public class CaesarCipherExample   \n",
    "{   \n",
    "    // ALPHABET string denotes alphabet from a-z   \n",
    "    public static final String ALPHABET = \"abcdefghijklmnopqrstuvwxyz\";   \n",
    "      \n",
    "    // create encryptData() method for encrypting user input string with given shift key   \n",
    "    public static String encryptData(String inputStr, int shiftKey)   \n",
    "    {   \n",
    "        // convert inputStr into lower case   \n",
    "        inputStr = inputStr.toLowerCase();   \n",
    "          \n",
    "        // encryptStr to store encrypted data   \n",
    "        String encryptStr = \"\";   \n",
    "          \n",
    "       \n",
    "    }   \n",
    "}   \n",
    "CaesarCipherExample.main(null)"
   ]
  },
  {
   "cell_type": "markdown",
   "metadata": {},
   "source": [
    "## Still working on this IT IS CHALLENGING!"
   ]
  }
 ],
 "metadata": {
  "kernelspec": {
   "display_name": "Java",
   "language": "java",
   "name": "java"
  },
  "language_info": {
   "name": "java"
  },
  "orig_nbformat": 4
 },
 "nbformat": 4,
 "nbformat_minor": 2
}
