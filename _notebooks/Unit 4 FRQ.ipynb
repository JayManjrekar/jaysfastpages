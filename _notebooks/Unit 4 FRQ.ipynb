{
 "cells": [
  {
   "cell_type": "code",
   "execution_count": null,
   "metadata": {},
   "outputs": [],
   "source": [
    "// import required classes and package, if any    \n",
    "import java.util.Scanner;   \n",
    "   \n",
    "// create class CaesarCipherExample for encryption and decryption    \n",
    "public class CaesarCipherExample   \n",
    "{   \n",
    "    // ALPHABET string denotes alphabet from a-z   \n",
    "    public static final String ALPHABET = \"abcdefghijklmnopqrstuvwxyz\";   \n",
    "      \n",
    "    // create encryptData() method for encrypting user input string with given shift key   \n",
    "    public static String encryptData(String inputStr, int shiftKey)   \n",
    "    {   \n",
    "        // convert inputStr into lower case   \n",
    "        inputStr = inputStr.toLowerCase();   \n",
    "          \n",
    "        // encryptStr to store encrypted data   \n",
    "        String encryptStr = \"\";   \n",
    "          \n",
    "       \n",
    "    }   \n",
    "}   \n",
    "CaesarCipherExample.main(null)"
   ]
  },
  {
   "cell_type": "markdown",
   "metadata": {},
   "source": [
    "## Still working on this IT IS CHALLENGING!"
   ]
  }
 ],
 "metadata": {
  "kernelspec": {
   "display_name": "Java",
   "language": "java",
   "name": "java"
  },
  "language_info": {
   "name": "java"
  },
  "orig_nbformat": 4
 },
 "nbformat": 4,
 "nbformat_minor": 2
}
