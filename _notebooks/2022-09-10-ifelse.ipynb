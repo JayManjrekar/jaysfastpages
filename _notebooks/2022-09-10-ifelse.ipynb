{
 "cells": [
  {
   "cell_type": "markdown",
   "metadata": {},
   "source": [
    "# If Else Assignment\n",
    "> A tutorial on how to make if else statements.\n",
    "\n",
    "- toc: true \n",
    "- badges: true\n",
    "- comments: true\n",
    "- categories: [jupyter]"
   ]
  },
  {
   "cell_type": "markdown",
   "metadata": {},
   "source": [
    "The code on the bottom displays a boolean conditional which is true"
   ]
  },
  {
   "cell_type": "markdown",
   "metadata": {},
   "source": [
    "I begin by importing the scanner in order to allow myself to use the user input. After I am able to use the scanner properties I create a variable called number score which is set equal to the user's scpre that they input. Following this, I create an if else statement with a conditional that states if the users inputted score is greater than or equal to 90, they have receieved an A under Mr. Mortensen's grading. The else if is an alternate for if this condition is not met and makes the conditional if the users input is greater than equal to 80 but less than 90 then they have received a B. Likewise using the same logic I am able to the same for the rest of my conditions continuing down to if all the if and else if conditionals are not met then the else means that they receievd an F."
   ]
  },
  {
   "cell_type": "code",
   "execution_count": 2,
   "metadata": {},
   "outputs": [
    {
     "name": "stdout",
     "output_type": "stream",
     "text": [
      "hello"
     ]
    }
   ],
   "source": [
    "System.out.print(\"hello\");"
   ]
  },
  {
   "cell_type": "code",
   "execution_count": 1,
   "metadata": {},
   "outputs": [
    {
     "name": "stdout",
     "output_type": "stream",
     "text": [
      "2\n",
      "You literally did nothing thats the only way possible F"
     ]
    }
   ],
   "source": [
    "import java.util.Scanner;\n",
    "Scanner scanner = new Scanner(System.in); //numberScore variable is equal to the user input\n",
    "    int numberScore = scanner.nextInt();\n",
    "    System.out.println(numberScore);\n",
    "if (numberScore >= 90) {\n",
    "    System.out.print(\"You went above and beyond Hey Hey Hey you got an A :) \");\n",
    "} else if (numberScore >= 80 && numberScore< 90) {\n",
    "    System.out.print(\"You did what you were supposed to so B\");\n",
    "}  else if (numberScore >= 70 && numberScore < 80) {\n",
    "    System.out.print(\"Stop messing around this is lower than average C\");\n",
    "}  else if (numberScore >= 60 && numberScore < 70) {\n",
    "    System.out.print(\"You literally wrote a line of code D\");\n",
    "}  else {\n",
    "    System.out.print(\"You literally did nothing thats the only way possible F\");\n",
    "}\n"
   ]
  },
  {
   "cell_type": "markdown",
   "metadata": {},
   "source": [
    "In this code segment, I once again imported the scanner, however this time I added a print statement as a way to give clear directions for the user input. I then set the keyword for 4 being the correct answer which will print congrats if it is correct. The switch case just makes it so that it identifies the variable of input so I don't have to repeat it over and over again. The case is essntially the contitional and the print is the result of whether the user input matches up with the statement."
   ]
  },
  {
   "cell_type": "code",
   "execution_count": null,
   "metadata": {},
   "outputs": [
    {
     "ename": "",
     "evalue": "",
     "output_type": "error",
     "traceback": [
      "\u001b[1;31mJupyter cannot be started. Error attempting to locate Jupyter: Select an Interpreter to start Jupyter\n",
      "\u001b[1;31mRun the following command to install 'jupyter and notebook' into the Python environment. \n",
      "\u001b[1;31mCommand: 'python -m pip install jupyter notebook -U\n",
      "\u001b[1;31mor\n",
      "\u001b[1;31mconda install jupyter notebook -U'\n",
      "\u001b[1;31mClick <a href='https://aka.ms/installJupyterForVSCode'>here</a> for more info."
     ]
    }
   ],
   "source": [
    "import java.util.Scanner;\n",
    "Scanner scanner = new Scanner(System.in); //numberScore variable is equal to the user input\n",
    "   System.out.print(\"Pick a number 1-5 if you guess it right then you will be congratualeted \");\n",
    "    int numberScore = scanner.nextInt();\n",
    "    System.out.println(numberScore);\n",
    "\n",
    "    switch(numberScore) {\n",
    "        case 1: \n",
    "            System.out.print(\"Wrong Number\");\n",
    "            break;\n",
    "        case 2: \n",
    "            System.out.print(\"Wrong Number\");\n",
    "            break;\n",
    "        case 3: \n",
    "            System.out.print(\"Wrong Number\");\n",
    "            break;\n",
    "        case 4: \n",
    "            System.out.print(\"Congrats!\");\n",
    "            break;\n",
    "        case 5: \n",
    "            System.out.print(\"Wrong Number\");\n",
    "            break; \n",
    "    }\n"
   ]
  },
  {
   "cell_type": "markdown",
   "metadata": {},
   "source": [
    "Demorgans Law is essntially a form of code where you can use the ! or the not operator in a conditional. If there is a not outside the boolean expression it distributes and makes all the signs and values the opposite of what it normally is. "
   ]
  },
  {
   "cell_type": "code",
   "execution_count": null,
   "metadata": {},
   "outputs": [
    {
     "name": "stdout",
     "output_type": "stream",
     "text": [
      "Pick a number greater than or equal to 90 to see the law in action103\n",
      "See I told you"
     ]
    }
   ],
   "source": [
    "import java.util.Scanner;\n",
    "Scanner scanner = new Scanner(System.in); //numberScore variable is equal to the user input\n",
    "    System.out.print(\"Pick a number greater than or equal to 90 to see the law in action\");\n",
    "    int numberScore = scanner.nextInt();\n",
    "    System.out.println(numberScore);\n",
    "if (!(numberScore >= 90)) {\n",
    "        System.out.print(\"You went above and beyond Hey Hey Hey you got an A :) \");\n",
    "} else {\n",
    "    System.out.print(\"See I told you\");\n",
    "}"
   ]
  },
  {
   "cell_type": "markdown",
   "metadata": {},
   "source": [
    "As you can see by adding the ! it created the inverse of the conditional meaning that the boolean changed from >= 90 to <= 90. As a result of this when we were asked to put a number 90 or greater the conditional was false and skipped to the else statement."
   ]
  },
  {
   "cell_type": "markdown",
   "metadata": {},
   "source": [
    "# Grateful and Gratitude\n",
    "\n",
    "\n",
    "How i see it is that most of us in the class have the pleasure of being able to eat three meals a day. The little things we do complain about are so minuscule that in the larger scale of things they mean literally nothing. If something goes bad for you, you need to really think is it really worth getting this sad over. And even if it is put your head up and and get up. Resilience and Relentlessness are the two factors which differentiate success from people who are not. i am grateful that I am even in a school which offers APCSA. The classroom and resources provided to us are more than enough to help us ready for college level classes and real world jobs. Additionally, I am thankful for my accomplishments in soccer, such as making the top levels of ECNL, USSDA, and Varsity. Additionally we have won CIF divison 1 soccer, which was purely the product of our relentless team spirit and refusal to give up even when all  odds were against us. But the greatest thing about winning against all odds is the satisfaction. No one likes an easy win, we are supposed to struggle. Believe me the end reward is amazing, which is why no matter what the goal is, you need to persevere and put your all into it.\n",
    "\n",
    "\n",
    "\n",
    "\n",
    "\n",
    "Video Note\n",
    "\n",
    "\n",
    "\n",
    "-Your expectations will always be met with reality \n",
    "\n",
    "\n",
    "\n",
    "-Even if these expectations are not met do not get discouraged and see it as an opportunity to learn\n",
    "\n",
    "— Keep your mind in the present, as going to far into the past or future will only discourage or stress you out\n",
    "\n",
    "Happiness is a mindset therefore you technically have full control of when you are happy or not \n",
    "Have a positive outlook on things and you will be happy even in a bad circumstances \n",
    "\n",
    "\n",
    "\n",
    "\n",
    "Goals for this year\n",
    "\n",
    "I am  going to have mastery in Java and python before I go to college\n",
    "I will establish a routine of hard work and discipline and will be fully consistent with it by November\n",
    "I will win another CIF championship\n",
    "I will get out of my comfort zone and talk to people I never have before\n",
    "I will try to be as optimistic as I can no matter if I am having a bad day or not"
   ]
  }
 ],
 "metadata": {
  "kernelspec": {
   "display_name": "Java",
   "language": "java",
   "name": "java"
  },
  "language_info": {
   "codemirror_mode": "java",
   "file_extension": ".jshell",
   "mimetype": "text/x-java-source",
   "name": "java",
   "pygments_lexer": "java",
   "version": "19"
  },
  "orig_nbformat": 4
 },
 "nbformat": 4,
 "nbformat_minor": 2
}
