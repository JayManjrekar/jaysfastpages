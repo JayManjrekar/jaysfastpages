{
 "cells": [
  {
   "cell_type": "code",
   "execution_count": null,
   "metadata": {},
   "outputs": [],
   "source": [
    "class Main{\n",
    "    public int getScore(){\n",
    "        int points = 0;\n",
    "        if(levelOne.goalReached())\n",
    "            points += levelOne.getPoints();\n",
    "        if(levelTwo.goalReached() && levelOne.goalReached())\n",
    "            points += levelTwo.getPoints();\n",
    "        if(levelThree.goalReached()&& levelOne.goalReached()&& levelTwo.goalReached())\n",
    "            points += levelThree.getPoints()\n",
    "        if(isBonus())\n",
    "            points += points * 3;\n",
    "        \n",
    "    }\n",
    "}"
   ]
  }
 ],
 "metadata": {
  "kernelspec": {
   "display_name": "Java",
   "language": "java",
   "name": "java"
  },
  "language_info": {
   "name": "java"
  },
  "orig_nbformat": 4
 },
 "nbformat": 4,
 "nbformat_minor": 2
}
