{
 "cells": [
  {
   "cell_type": "markdown",
   "metadata": {},
   "source": [
    "# 2019 FRQ 2"
   ]
  },
  {
   "cell_type": "code",
   "execution_count": null,
   "metadata": {},
   "outputs": [],
   "source": [
    "public class StepTracker {\n",
    "    private int steps;\n",
    "    private int minSteps;\n",
    "    private int daysActive;\n",
    "    private int daysTotals;\n",
    "\n",
    "    public StepTracker(int minSteps){\n",
    "        this.minSteps = minSteps;\n",
    "        steps = 0;\n",
    "        daysActive = 0;\n",
    "        daysTotals = 0;\n",
    "    }\n",
    "\n",
    "    public void addDailySteps(int newSteps) {\n",
    "        steps += newSteps;\n",
    "        daysTotals++;\n",
    "        if(newSteps >= minSteps){\n",
    "            daysActive++;\n",
    "        }\n",
    "    }\n",
    "\n",
    "    public int activeDays(){\n",
    "        return daysActive;\n",
    "    }\n",
    "\n",
    "    public double averageSteps(){\n",
    "        if(daysTotals == 0){\n",
    "            return 0;\n",
    "        }\n",
    "        return (double)steps / (double) daysTotals;\n",
    "    }\n",
    "    \n",
    "}"
   ]
  }
 ],
 "metadata": {
  "kernelspec": {
   "display_name": "Java",
   "language": "java",
   "name": "java"
  },
  "language_info": {
   "name": "java"
  },
  "orig_nbformat": 4
 },
 "nbformat": 4,
 "nbformat_minor": 2
}
