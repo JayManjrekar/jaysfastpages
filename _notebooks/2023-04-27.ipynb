{
 "cells": [
  {
   "cell_type": "code",
   "execution_count": 13,
   "metadata": {},
   "outputs": [
    {
     "name": "stdout",
     "output_type": "stream",
     "text": [
      "x: kool aid\n",
      "y: water\n"
     ]
    }
   ],
   "source": [
    "class balls {\n",
    "    public static void main(String[] args){\n",
    "        String x = \"water\";\n",
    "        String y = \"kool aid\";\n",
    "        String temp;\n",
    "\n",
    "        temp = x;\n",
    "        x = y;\n",
    "        y = temp;\n",
    "\n",
    "        System.out.println(\"x: \" + x);\n",
    "        System.out.println(\"y: \" + y);\n",
    "    }\n",
    "}\n",
    "balls.main(null);"
   ]
  }
 ],
 "metadata": {
  "kernelspec": {
   "display_name": "Java",
   "language": "java",
   "name": "java"
  },
  "language_info": {
   "name": "java"
  },
  "orig_nbformat": 4
 },
 "nbformat": 4,
 "nbformat_minor": 2
}
