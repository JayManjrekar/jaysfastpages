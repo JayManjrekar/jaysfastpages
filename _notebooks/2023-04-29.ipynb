{
 "cells": [
  {
   "cell_type": "markdown",
   "metadata": {},
   "source": [
    "## Guess the Number Simulation"
   ]
  },
  {
   "cell_type": "code",
   "execution_count": 1,
   "metadata": {
    "vscode": {
     "languageId": "java"
    }
   },
   "outputs": [
    {
     "name": "stdout",
     "output_type": "stream",
     "text": [
      "Welcome to Guess the Number Game!\n",
      "I'm thinking of a number between 1 and 100.\n",
      "You have 5 attempts to guess the number.\n",
      "\n",
      "Attempt #1: Enter your guess: Too high! Try again.\n",
      "\n",
      "Attempt #2: Enter your guess: Too high! Try again.\n",
      "\n",
      "Attempt #3: Enter your guess: Too low! Try again.\n",
      "\n",
      "Attempt #4: Enter your guess: Too high! Try again.\n",
      "\n",
      "Attempt #5: Enter your guess: Too high! Try again.\n",
      "\n",
      "Game over! You did not guess the number. The correct number was 3.\n"
     ]
    }
   ],
   "source": [
    "import java.util.Random;\n",
    "import java.util.Scanner;\n",
    "\n",
    "public class GuessTheNumberGame {\n",
    "    private int randomNumber;\n",
    "    private int maxAttempts;\n",
    "    private int currentAttempt;\n",
    "\n",
    "    public GuessTheNumberGame(int maxAttempts) {\n",
    "        this.maxAttempts = maxAttempts;\n",
    "        Random random = new Random();\n",
    "        randomNumber = random.nextInt(100) + 1; // Generate a random number between 1 and 100\n",
    "        currentAttempt = 1;\n",
    "    }\n",
    "\n",
    "    public void playGame() {\n",
    "        Scanner scanner = new Scanner(System.in);\n",
    "        System.out.println(\"Welcome to Guess the Number Game!\");\n",
    "        System.out.println(\"I'm thinking of a number between 1 and 100.\");\n",
    "        System.out.println(\"You have \" + maxAttempts + \" attempts to guess the number.\\n\");\n",
    "\n",
    "        while (currentAttempt <= maxAttempts) {\n",
    "            System.out.print(\"Attempt #\" + currentAttempt + \": Enter your guess: \");\n",
    "            int guess = scanner.nextInt();\n",
    "\n",
    "            if (guess < randomNumber) {\n",
    "                System.out.println(\"Too low! Try again.\\n\");\n",
    "            } else if (guess > randomNumber) {\n",
    "                System.out.println(\"Too high! Try again.\\n\");\n",
    "            } else {\n",
    "                System.out.println(\"Congratulations! You guessed the number correctly in \" + currentAttempt + \" attempts!\");\n",
    "                return;\n",
    "            }\n",
    "\n",
    "            currentAttempt++;\n",
    "        }\n",
    "\n",
    "        System.out.println(\"Game over! You did not guess the number. The correct number was \" + randomNumber + \".\");\n",
    "    }\n",
    "\n",
    "    public static void main(String[] args) {\n",
    "        GuessTheNumberGame game = new GuessTheNumberGame(5);\n",
    "        game.playGame();\n",
    "    }\n",
    "}\n",
    "GuessTheNumberGame.main(null);"
   ]
  },
  {
   "cell_type": "code",
   "execution_count": 2,
   "metadata": {
    "vscode": {
     "languageId": "java"
    }
   },
   "outputs": [
    {
     "name": "stdout",
     "output_type": "stream",
     "text": [
      "Enter your name: Welcome, Jay! Let's play the extended version of Guess the Number Game!\n",
      "Welcome to Guess the Number Game!\n",
      "I'm thinking of a number between 1 and 100.\n",
      "You have 7 attempts to guess the number.\n",
      "\n",
      "Attempt #1: Enter your guess: Too high! Try again.\n",
      "\n",
      "Attempt #2: Enter your guess: Too high! Try again.\n",
      "\n",
      "Attempt #3: Enter your guess: Too high! Try again.\n",
      "\n",
      "Attempt #4: Enter your guess: Too high! Try again.\n",
      "\n",
      "Attempt #5: Enter your guess: Too high! Try again.\n",
      "\n",
      "Attempt #6: Enter your guess: Too high! Try again.\n",
      "\n",
      "Attempt #7: Enter your guess: Congratulations! You guessed the number correctly in 7 attempts!\n",
      "Thanks for playing, Jay!\n"
     ]
    }
   ],
   "source": [
    "public class ExtendedGuessTheNumberGame extends GuessTheNumberGame {\n",
    "    private String playerName;\n",
    "\n",
    "    public ExtendedGuessTheNumberGame(int maxAttempts, String playerName) {\n",
    "        super(maxAttempts);\n",
    "        this.playerName = playerName;\n",
    "    }\n",
    "\n",
    "    @Override\n",
    "    public void playGame() {\n",
    "        System.out.println(\"Welcome, \" + playerName + \"! Let's play the extended version of Guess the Number Game!\");\n",
    "        super.playGame();\n",
    "        System.out.println(\"Thanks for playing, \" + playerName + \"!\");\n",
    "    }\n",
    "\n",
    "    public static void main(String[] args) {\n",
    "        Scanner scanner = new Scanner(System.in);\n",
    "        System.out.print(\"Enter your name: \");\n",
    "        String playerName = scanner.nextLine();\n",
    "\n",
    "        ExtendedGuessTheNumberGame game = new ExtendedGuessTheNumberGame(7, playerName);\n",
    "        game.playGame();\n",
    "    }\n",
    "}\n",
    "ExtendedGuessTheNumberGame.main(null);"
   ]
  },
  {
   "cell_type": "markdown",
   "metadata": {},
   "source": [
    "## Part A:\n",
    "\n",
    "- Initialize the game by creating an instance of ExtendedGuessTheNumberGame with a maximum of 7 attempts and prompt the user to enter their name.\n",
    "- Get the player's name as input.\n",
    "- Display a welcome message to the player, using their name.\n",
    "Start the game.\n",
    "- Generate a random number between 1 and 100.\n",
    "- Display the number of attempts the player has (7 attempts in this case).\n",
    "- Ask the player to enter their guess.\n",
    "- Compare the guess with the random number:\n",
    "- If the guess is lower than the random number, display \"Too low! Try again.\"\n",
    "- If the guess is higher than the random number, display \"Too high! Try again.\"\n",
    "- If the guess is correct, display \"Congratulations! You guessed the number correctly in X attempts!\" (X represents the number of attempts taken).\n",
    "- If the player runs out of attempts, display \"Game over! You did not guess the number. The correct number was X.\" (X represents the random number).\n",
    "- If the game is over, display a thank you message to the player.\n",
    "End the simulation."
   ]
  },
  {
   "cell_type": "markdown",
   "metadata": {},
   "source": [
    "## Part B:\n",
    "\n",
    "- Initialize the game by creating an instance of ExtendedGuessTheNumberGame with a maximum of 5 attempts and prompt the user to enter their name.\n",
    "- Get the player's name as input.\n",
    "- Display a welcome message to the player, using their name.\n",
    "Start the game.\n",
    "- Generate a random number between 1 and 100.\n",
    "- Display the number of attempts the player has (5 attempts in this case).\n",
    "- Ask the player to enter their guess.\n",
    "- Compare the guess with the random number:\n",
    "- If the guess is lower than the random number, display \"Too low! Try again.\"\n",
    "- If the guess is higher than the random number, display \"Too high! Try again.\"\n",
    "- If the guess is correct, display \"Congratulations! You guessed the number correctly in X attempts!\" (X represents the number of attempts taken).\n",
    "- If the player runs out of attempts, display \"Game over! You did not guess the number. The correct number was X.\" (X represents the random number).\n",
    "- If the game is over, display a thank you message to the player.\n",
    "End the simulation."
   ]
  }
 ],
 "metadata": {
  "kernelspec": {
   "display_name": "Java",
   "language": "java",
   "name": "java"
  },
  "language_info": {
   "codemirror_mode": "java",
   "file_extension": ".jshell",
   "mimetype": "text/x-java-source",
   "name": "Java",
   "pygments_lexer": "java",
   "version": "19"
  },
  "orig_nbformat": 4
 },
 "nbformat": 4,
 "nbformat_minor": 2
}
