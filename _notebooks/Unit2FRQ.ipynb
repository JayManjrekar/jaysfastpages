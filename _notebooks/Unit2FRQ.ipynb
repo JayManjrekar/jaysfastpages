{
 "cells": [
  {
   "cell_type": "markdown",
   "metadata": {},
   "source": [
    "# CB FRQ Unit 2"
   ]
  },
  {
   "cell_type": "markdown",
   "metadata": {},
   "source": [
    "## Part A"
   ]
  },
  {
   "cell_type": "markdown",
   "metadata": {},
   "source": [
    "Write the WordMatch method scoreGuess. To determine the score to be returned,\n",
    "scoreGuess finds the number of times that guess occurs as a substring of secret and then\n",
    "multiplies that number by the square of the length of guess. Occurrences of guess may overlap\n",
    "within secret."
   ]
  },
  {
   "cell_type": "code",
   "execution_count": 4,
   "metadata": {},
   "outputs": [],
   "source": [
    "\n",
    "public int scoreGuess(String guess)\n",
    "{\n",
    "  int count = 0;\n",
    "\n",
    "  for(int i = 0; i < secret.length(); i++)\n",
    "  {\n",
    "    int j = i + guess.length();\n",
    "\n",
    "    if(j <= secret.length() && secret.substring(i, j).equals(guess))\n",
    "      count++;\n",
    "  }\n",
    "\n",
    "  return count * (guess.length() * guess.length());\n",
    "}\n"
   ]
  },
  {
   "cell_type": "markdown",
   "metadata": {},
   "source": [
    "Since we are given on the table that we need to return the result times length of the guess squared. Then we can see that we need to loop over the entire secret word to see how many times guess ours in secret.secret signifies i and j signifies guess. We create a 2D array. If guess is at the beginning of subset then we would add to the count"
   ]
  },
  {
   "cell_type": "markdown",
   "metadata": {},
   "source": [
    "## Part B"
   ]
  },
  {
   "cell_type": "markdown",
   "metadata": {},
   "source": [
    "Write the WordMatch method findBetterGuess, which returns the better guess of its two\n",
    "String parameters, guess1 and guess2. If the scoreGuess method returns different\n",
    "values for guess1 and guess2, then the guess with the higher score is returned. If the\n",
    "scoreGuess method returns the same value for guess1 and guess2, then the\n",
    "alphabetically greater guess is returned. "
   ]
  },
  {
   "cell_type": "code",
   "execution_count": null,
   "metadata": {},
   "outputs": [],
   "source": [
    "public String findBetterGuess(String guess1, String guess2)\n",
    "{\n",
    "  int score1 = scoreGuess(guess1);\n",
    "  int score2 = scoreGuess(guess2);\n",
    "  \n",
    "  if(score1 > score2)\n",
    "    return guess1;\n",
    "  else if(score2 > score1)\n",
    "    return guess2;\n",
    "  else\n",
    "  {\n",
    "    if(guess1.compareTo(guess2) > 0)\n",
    "      return guess1;\n",
    "    else\n",
    "      return guess2;\n",
    "  }\n",
    "}"
   ]
  },
  {
   "cell_type": "markdown",
   "metadata": {},
   "source": [
    "We have to use scoreGuess and use the method for part B. Then I am using a conditional if score 1 is greater than score 2, then I will return guess 1. If score 2 is greater than score1 then I return guess2. ComparedTo means that if the first one is greater than other one then I would return a positive number. If guess 1 is alpabetically bigger than I would return guess 1 otherwise I would return guess 2."
   ]
  }
 ],
 "metadata": {
  "kernelspec": {
   "display_name": "Java",
   "language": "java",
   "name": "java"
  },
  "language_info": {
   "codemirror_mode": "java",
   "file_extension": ".jshell",
   "mimetype": "text/x-java-source",
   "name": "java",
   "pygments_lexer": "java",
   "version": "19"
  },
  "orig_nbformat": 4
 },
 "nbformat": 4,
 "nbformat_minor": 2
}
